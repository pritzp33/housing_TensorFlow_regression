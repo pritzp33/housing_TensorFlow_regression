{
 "cells": [
  {
   "cell_type": "markdown",
   "metadata": {},
   "source": [
    "# House Sales in King County, USA - TensorFlow Regression - Kaggle"
   ]
  },
  {
   "cell_type": "markdown",
   "metadata": {},
   "source": [
    "## Reading in the data"
   ]
  },
  {
   "cell_type": "markdown",
   "metadata": {},
   "source": [
    "I will be making use of the data found in the following Kaggle dataset: https://www.kaggle.com/harlfoxem/housesalesprediction"
   ]
  },
  {
   "cell_type": "markdown",
   "metadata": {},
   "source": [
    "Importing the libraries that I will be making use of:"
   ]
  },
  {
   "cell_type": "code",
   "execution_count": 3,
   "metadata": {},
   "outputs": [],
   "source": [
    "import pandas as pd\n",
    "import numpy as np\n",
    "import matplotlib.pyplot as plt\n",
    "import seaborn as sns"
   ]
  },
  {
   "cell_type": "markdown",
   "metadata": {},
   "source": [
    "Since I am using Jupyter Notebook and I would like to see plots displayed directly below the code cells that produce them, I must use the following:"
   ]
  },
  {
   "cell_type": "code",
   "execution_count": 4,
   "metadata": {},
   "outputs": [],
   "source": [
    "%matplotlib inline"
   ]
  },
  {
   "cell_type": "markdown",
   "metadata": {},
   "source": [
    "<br>"
   ]
  },
  {
   "cell_type": "code",
   "execution_count": 5,
   "metadata": {},
   "outputs": [],
   "source": [
    "df = pd.read_csv('kc_house_data.csv')"
   ]
  },
  {
   "cell_type": "markdown",
   "metadata": {},
   "source": [
    "The data contains information on over 21,000 houses sold in the King County area between May 2014 and May 2015. I will split this data into a training set and a test set. The training set will be used to train a neural network and the test set will be used to test this neural network. I will be predicting a price for each house in the test set and comparing it to the actual value in order to evaluate my model."
   ]
  },
  {
   "cell_type": "code",
   "execution_count": 6,
   "metadata": {},
   "outputs": [
    {
     "data": {
      "text/plain": [
       "Index(['id', 'date', 'price', 'bedrooms', 'bathrooms', 'sqft_living',\n",
       "       'sqft_lot', 'floors', 'waterfront', 'view', 'condition', 'grade',\n",
       "       'sqft_above', 'sqft_basement', 'yr_built', 'yr_renovated', 'zipcode',\n",
       "       'lat', 'long', 'sqft_living15', 'sqft_lot15'],\n",
       "      dtype='object')"
      ]
     },
     "execution_count": 6,
     "metadata": {},
     "output_type": "execute_result"
    }
   ],
   "source": [
    "df.columns"
   ]
  },
  {
   "cell_type": "markdown",
   "metadata": {},
   "source": [
    "Descriptions for the columns can be seen below:"
   ]
  },
  {
   "cell_type": "markdown",
   "metadata": {},
   "source": [
    "## Feature Columns\n",
    "\n",
    "id - Unique ID for each home sold\n",
    "\n",
    "date - Date of the home sale\n",
    "\n",
    "price - Price of each home sold\n",
    "\n",
    "bedrooms - Number of bedrooms\n",
    "\n",
    "bathrooms - Number of bathrooms, where .5 accounts for a room with a toilet but no shower\n",
    "\n",
    "sqft_living - Square footage of the apartments interior living space\n",
    "\n",
    "sqft_lot - Square footage of the land space\n",
    "\n",
    "floors - Number of floors\n",
    "\n",
    "waterfront - A dummy variable for whether the apartment was overlooking the waterfront or not\n",
    "\n",
    "view - An index from 0 to 4 of how good the view of the property was\n",
    "\n",
    "condition - An index from 1 to 5 on the condition of the apartment,\n",
    "\n",
    "grade - An index from 1 to 13, where 1-3 falls short of building construction and design, 7 has an \n",
    "average level of construction and design, and 11-13 have a high quality level of construction and design.\n",
    "\n",
    "sqft_above - The square footage of the interior housing space that is above ground level\n",
    "\n",
    "sqft_basement - The square footage of the interior housing space that is below ground level\n",
    "\n",
    "yr_built - The year the house was initially built\n",
    "\n",
    "yr_renovated - The year of the house’s last renovation\n",
    "\n",
    "zipcode - What zipcode area the house is in\n",
    "\n",
    "lat - Lattitude\n",
    "\n",
    "long - Longitude\n",
    "\n",
    "sqft_living15 - The square footage of interior housing living space for the nearest 15 neighbors\n",
    "\n",
    "sqft_lot15 - The square footage of the land lots of the nearest 15 neighbors"
   ]
  },
  {
   "cell_type": "markdown",
   "metadata": {},
   "source": [
    "## Data visualisation"
   ]
  },
  {
   "cell_type": "markdown",
   "metadata": {},
   "source": [
    "### This section is just to explore the data and gain some preliminary insight. You can skip to the feature engineering section if you don't want to view this.\n"
   ]
  },
  {
   "cell_type": "code",
   "execution_count": 7,
   "metadata": {},
   "outputs": [
    {
     "data": {
      "text/plain": [
       "id               0\n",
       "date             0\n",
       "price            0\n",
       "bedrooms         0\n",
       "bathrooms        0\n",
       "sqft_living      0\n",
       "sqft_lot         0\n",
       "floors           0\n",
       "waterfront       0\n",
       "view             0\n",
       "condition        0\n",
       "grade            0\n",
       "sqft_above       0\n",
       "sqft_basement    0\n",
       "yr_built         0\n",
       "yr_renovated     0\n",
       "zipcode          0\n",
       "lat              0\n",
       "long             0\n",
       "sqft_living15    0\n",
       "sqft_lot15       0\n",
       "dtype: int64"
      ]
     },
     "execution_count": 7,
     "metadata": {},
     "output_type": "execute_result"
    }
   ],
   "source": [
    "df.isnull().sum()"
   ]
  },
  {
   "cell_type": "markdown",
   "metadata": {},
   "source": [
    "There appear to be no null values which means we won't have to do any cleaning. We will do some feature engineering later on."
   ]
  },
  {
   "cell_type": "markdown",
   "metadata": {},
   "source": [
    "Let's look at the correlation between the 'price' column and other columns:"
   ]
  },
  {
   "cell_type": "code",
   "execution_count": 8,
   "metadata": {},
   "outputs": [
    {
     "data": {
      "text/plain": [
       "zipcode         -0.053402\n",
       "id              -0.016772\n",
       "long             0.022036\n",
       "condition        0.036056\n",
       "yr_built         0.053953\n",
       "sqft_lot15       0.082845\n",
       "sqft_lot         0.089876\n",
       "yr_renovated     0.126424\n",
       "floors           0.256804\n",
       "waterfront       0.266398\n",
       "lat              0.306692\n",
       "bedrooms         0.308787\n",
       "sqft_basement    0.323799\n",
       "view             0.397370\n",
       "bathrooms        0.525906\n",
       "sqft_living15    0.585241\n",
       "sqft_above       0.605368\n",
       "grade            0.667951\n",
       "sqft_living      0.701917\n",
       "price            1.000000\n",
       "Name: price, dtype: float64"
      ]
     },
     "execution_count": 8,
     "metadata": {},
     "output_type": "execute_result"
    }
   ],
   "source": [
    "df.corr()['price'].sort_values()"
   ]
  },
  {
   "cell_type": "markdown",
   "metadata": {},
   "source": [
    "As you would expect, square footage of the house, grade and number of bathrooms and bedroom have some correlation with the price of the house."
   ]
  },
  {
   "cell_type": "markdown",
   "metadata": {},
   "source": []
  },
  {
   "cell_type": "code",
   "execution_count": null,
   "metadata": {},
   "outputs": [],
   "source": []
  },
  {
   "cell_type": "markdown",
   "metadata": {},
   "source": []
  },
  {
   "cell_type": "code",
   "execution_count": 9,
   "metadata": {},
   "outputs": [
    {
     "name": "stderr",
     "output_type": "stream",
     "text": [
      "C:\\Users\\Pritesh\\anaconda3\\lib\\site-packages\\seaborn\\_decorators.py:36: FutureWarning: Pass the following variable as a keyword arg: x. From version 0.12, the only valid positional argument will be `data`, and passing other arguments without an explicit keyword will result in an error or misinterpretation.\n",
      "  warnings.warn(\n"
     ]
    },
    {
     "data": {
      "text/plain": [
       "<AxesSubplot:xlabel='bedrooms', ylabel='count'>"
      ]
     },
     "execution_count": 9,
     "metadata": {},
     "output_type": "execute_result"
    },
    {
     "data": {
      "image/png": "[encoded data removed]",
      "text/plain": [
       "<Figure size 432x288 with 1 Axes>"
      ]
     },
     "metadata": {
      "needs_background": "light"
     },
     "output_type": "display_data"
    }
   ],
   "source": [
    "sns.countplot(df['bedrooms'])"
   ]
  },
  {
   "cell_type": "code",
   "execution_count": 10,
   "metadata": {},
   "outputs": [
    {
     "data": {
      "text/plain": [
       "<AxesSubplot:xlabel='price', ylabel='sqft_living'>"
      ]
     },
     "execution_count": 10,
     "metadata": {},
     "output_type": "execute_result"
    },
    {
     "data": {
      "image/png": "[encoded data removed]",
      "text/plain": [
       "<Figure size 864x576 with 1 Axes>"
      ]
     },
     "metadata": {
      "needs_background": "light"
     },
     "output_type": "display_data"
    }
   ],
   "source": [
    "plt.figure(figsize=(12,8))\n",
    "sns.scatterplot(x='price',y='sqft_living',data=df)"
   ]
  },
  {
   "cell_type": "markdown",
   "metadata": {},
   "source": [
    "The above figure shows a very strong linear relationship between sqft_living and price."
   ]
  },
  {
   "cell_type": "code",
   "execution_count": 11,
   "metadata": {},
   "outputs": [
    {
     "data": {
      "text/plain": [
       "<AxesSubplot:xlabel='bedrooms', ylabel='price'>"
      ]
     },
     "execution_count": 11,
     "metadata": {},
     "output_type": "execute_result"
    },
    {
     "data": {
      "image/png": "[encoded data removed]",
      "text/plain": [
       "<Figure size 864x576 with 1 Axes>"
      ]
     },
     "metadata": {
      "needs_background": "light"
     },
     "output_type": "display_data"
    }
   ],
   "source": [
    "plt.figure(figsize=(12,8))\n",
    "sns.boxplot(x='bedrooms',y='price',data=df)"
   ]
  },
  {
   "cell_type": "markdown",
   "metadata": {},
   "source": [
    "The above plot shows the distribution of prices of houses per number of bedrooms. We know from earlier that most of the houses have between 3 and 7 bedrooms so it makes sense that the prices have a large variety for these."
   ]
  },
  {
   "cell_type": "markdown",
   "metadata": {},
   "source": [
    "Let's take a look at the distribution of house prices."
   ]
  },
  {
   "cell_type": "code",
   "execution_count": 12,
   "metadata": {},
   "outputs": [
    {
     "data": {
      "text/plain": [
       "<AxesSubplot:xlabel='price', ylabel='Count'>"
      ]
     },
     "execution_count": 12,
     "metadata": {},
     "output_type": "execute_result"
    },
    {
     "data": {
      "image/png": "[encoded data removed]",
      "text/plain": [
       "<Figure size 864x576 with 1 Axes>"
      ]
     },
     "metadata": {
      "needs_background": "light"
     },
     "output_type": "display_data"
    }
   ],
   "source": [
    "plt.figure(figsize=(12,8))\n",
    "sns.histplot(df['price'])"
   ]
  },
  {
   "cell_type": "markdown",
   "metadata": {},
   "source": [
    "Most of the houses fall between \\\\$0 and \\\\$1.5million. There do appear to be some (albeit very few) houses that are priced higher than $4 million."
   ]
  },
  {
   "cell_type": "code",
   "execution_count": 13,
   "metadata": {},
   "outputs": [
    {
     "data": {
      "text/plain": [
       "<AxesSubplot:xlabel='waterfront', ylabel='price'>"
      ]
     },
     "execution_count": 13,
     "metadata": {},
     "output_type": "execute_result"
    },
    {
     "data": {
      "image/png": "[encoded data removed]",
      "text/plain": [
       "<Figure size 432x288 with 1 Axes>"
      ]
     },
     "metadata": {
      "needs_background": "light"
     },
     "output_type": "display_data"
    }
   ],
   "source": [
    "sns.boxplot(x='waterfront',y='price',data=df)"
   ]
  },
  {
   "cell_type": "markdown",
   "metadata": {},
   "source": [
    "Houses on the waterfront are more likely to be more expensive than those that aren't."
   ]
  },
  {
   "cell_type": "markdown",
   "metadata": {},
   "source": [
    "## Feature engineering"
   ]
  },
  {
   "cell_type": "code",
   "execution_count": 14,
   "metadata": {},
   "outputs": [
    {
     "data": {
      "text/html": [
       "<div>\n",
       "<style scoped>\n",
       "    .dataframe tbody tr th:only-of-type {\n",
       "        vertical-align: middle;\n",
       "    }\n",
       "\n",
       "    .dataframe tbody tr th {\n",
       "        vertical-align: top;\n",
       "    }\n",
       "\n",
       "    .dataframe thead th {\n",
       "        text-align: right;\n",
       "    }\n",
       "</style>\n",
       "<table border=\"1\" class=\"dataframe\">\n",
       "  <thead>\n",
       "    <tr style=\"text-align: right;\">\n",
       "      <th></th>\n",
       "      <th>id</th>\n",
       "      <th>date</th>\n",
       "      <th>price</th>\n",
       "      <th>bedrooms</th>\n",
       "      <th>bathrooms</th>\n",
       "      <th>sqft_living</th>\n",
       "      <th>sqft_lot</th>\n",
       "      <th>floors</th>\n",
       "      <th>waterfront</th>\n",
       "      <th>view</th>\n",
       "      <th>...</th>\n",
       "      <th>grade</th>\n",
       "      <th>sqft_above</th>\n",
       "      <th>sqft_basement</th>\n",
       "      <th>yr_built</th>\n",
       "      <th>yr_renovated</th>\n",
       "      <th>zipcode</th>\n",
       "      <th>lat</th>\n",
       "      <th>long</th>\n",
       "      <th>sqft_living15</th>\n",
       "      <th>sqft_lot15</th>\n",
       "    </tr>\n",
       "  </thead>\n",
       "  <tbody>\n",
       "    <tr>\n",
       "      <th>0</th>\n",
       "      <td>7129300520</td>\n",
       "      <td>10/13/2014</td>\n",
       "      <td>221900.0</td>\n",
       "      <td>3</td>\n",
       "      <td>1.00</td>\n",
       "      <td>1180</td>\n",
       "      <td>5650</td>\n",
       "      <td>1.0</td>\n",
       "      <td>0</td>\n",
       "      <td>0</td>\n",
       "      <td>...</td>\n",
       "      <td>7</td>\n",
       "      <td>1180</td>\n",
       "      <td>0</td>\n",
       "      <td>1955</td>\n",
       "      <td>0</td>\n",
       "      <td>98178</td>\n",
       "      <td>47.5112</td>\n",
       "      <td>-122.257</td>\n",
       "      <td>1340</td>\n",
       "      <td>5650</td>\n",
       "    </tr>\n",
       "    <tr>\n",
       "      <th>1</th>\n",
       "      <td>6414100192</td>\n",
       "      <td>12/9/2014</td>\n",
       "      <td>538000.0</td>\n",
       "      <td>3</td>\n",
       "      <td>2.25</td>\n",
       "      <td>2570</td>\n",
       "      <td>7242</td>\n",
       "      <td>2.0</td>\n",
       "      <td>0</td>\n",
       "      <td>0</td>\n",
       "      <td>...</td>\n",
       "      <td>7</td>\n",
       "      <td>2170</td>\n",
       "      <td>400</td>\n",
       "      <td>1951</td>\n",
       "      <td>1991</td>\n",
       "      <td>98125</td>\n",
       "      <td>47.7210</td>\n",
       "      <td>-122.319</td>\n",
       "      <td>1690</td>\n",
       "      <td>7639</td>\n",
       "    </tr>\n",
       "    <tr>\n",
       "      <th>2</th>\n",
       "      <td>5631500400</td>\n",
       "      <td>2/25/2015</td>\n",
       "      <td>180000.0</td>\n",
       "      <td>2</td>\n",
       "      <td>1.00</td>\n",
       "      <td>770</td>\n",
       "      <td>10000</td>\n",
       "      <td>1.0</td>\n",
       "      <td>0</td>\n",
       "      <td>0</td>\n",
       "      <td>...</td>\n",
       "      <td>6</td>\n",
       "      <td>770</td>\n",
       "      <td>0</td>\n",
       "      <td>1933</td>\n",
       "      <td>0</td>\n",
       "      <td>98028</td>\n",
       "      <td>47.7379</td>\n",
       "      <td>-122.233</td>\n",
       "      <td>2720</td>\n",
       "      <td>8062</td>\n",
       "    </tr>\n",
       "    <tr>\n",
       "      <th>3</th>\n",
       "      <td>2487200875</td>\n",
       "      <td>12/9/2014</td>\n",
       "      <td>604000.0</td>\n",
       "      <td>4</td>\n",
       "      <td>3.00</td>\n",
       "      <td>1960</td>\n",
       "      <td>5000</td>\n",
       "      <td>1.0</td>\n",
       "      <td>0</td>\n",
       "      <td>0</td>\n",
       "      <td>...</td>\n",
       "      <td>7</td>\n",
       "      <td>1050</td>\n",
       "      <td>910</td>\n",
       "      <td>1965</td>\n",
       "      <td>0</td>\n",
       "      <td>98136</td>\n",
       "      <td>47.5208</td>\n",
       "      <td>-122.393</td>\n",
       "      <td>1360</td>\n",
       "      <td>5000</td>\n",
       "    </tr>\n",
       "    <tr>\n",
       "      <th>4</th>\n",
       "      <td>1954400510</td>\n",
       "      <td>2/18/2015</td>\n",
       "      <td>510000.0</td>\n",
       "      <td>3</td>\n",
       "      <td>2.00</td>\n",
       "      <td>1680</td>\n",
       "      <td>8080</td>\n",
       "      <td>1.0</td>\n",
       "      <td>0</td>\n",
       "      <td>0</td>\n",
       "      <td>...</td>\n",
       "      <td>8</td>\n",
       "      <td>1680</td>\n",
       "      <td>0</td>\n",
       "      <td>1987</td>\n",
       "      <td>0</td>\n",
       "      <td>98074</td>\n",
       "      <td>47.6168</td>\n",
       "      <td>-122.045</td>\n",
       "      <td>1800</td>\n",
       "      <td>7503</td>\n",
       "    </tr>\n",
       "  </tbody>\n",
       "</table>\n",
       "<p>5 rows × 21 columns</p>\n",
       "</div>"
      ],
      "text/plain": [
       "           id        date     price  bedrooms  bathrooms  sqft_living  \\\n",
       "0  7129300520  10/13/2014  221900.0         3       1.00         1180   \n",
       "1  6414100192   12/9/2014  538000.0         3       2.25         2570   \n",
       "2  5631500400   2/25/2015  180000.0         2       1.00          770   \n",
       "3  2487200875   12/9/2014  604000.0         4       3.00         1960   \n",
       "4  1954400510   2/18/2015  510000.0         3       2.00         1680   \n",
       "\n",
       "   sqft_lot  floors  waterfront  view  ...  grade  sqft_above  sqft_basement  \\\n",
       "0      5650     1.0           0     0  ...      7        1180              0   \n",
       "1      7242     2.0           0     0  ...      7        2170            400   \n",
       "2     10000     1.0           0     0  ...      6         770              0   \n",
       "3      5000     1.0           0     0  ...      7        1050            910   \n",
       "4      8080     1.0           0     0  ...      8        1680              0   \n",
       "\n",
       "   yr_built  yr_renovated  zipcode      lat     long  sqft_living15  \\\n",
       "0      1955             0    98178  47.5112 -122.257           1340   \n",
       "1      1951          1991    98125  47.7210 -122.319           1690   \n",
       "2      1933             0    98028  47.7379 -122.233           2720   \n",
       "3      1965             0    98136  47.5208 -122.393           1360   \n",
       "4      1987             0    98074  47.6168 -122.045           1800   \n",
       "\n",
       "   sqft_lot15  \n",
       "0        5650  \n",
       "1        7639  \n",
       "2        8062  \n",
       "3        5000  \n",
       "4        7503  \n",
       "\n",
       "[5 rows x 21 columns]"
      ]
     },
     "execution_count": 14,
     "metadata": {},
     "output_type": "execute_result"
    }
   ],
   "source": [
    "df.head()"
   ]
  },
  {
   "cell_type": "markdown",
   "metadata": {},
   "source": [
    "I will drop the 'id' column as it does not have any useful information that we can use for our model."
   ]
  },
  {
   "cell_type": "code",
   "execution_count": 15,
   "metadata": {},
   "outputs": [],
   "source": [
    "df = df.drop('id',axis=1)"
   ]
  },
  {
   "cell_type": "markdown",
   "metadata": {},
   "source": [
    "### Feature engineering using the date column"
   ]
  },
  {
   "cell_type": "markdown",
   "metadata": {},
   "source": [
    "In its current format, the data column is not usable. I can however grab the month and year for each data point and use this in my model. "
   ]
  },
  {
   "cell_type": "markdown",
   "metadata": {},
   "source": [
    "First, converting the date column to the Pandas datetime format."
   ]
  },
  {
   "cell_type": "code",
   "execution_count": 16,
   "metadata": {},
   "outputs": [],
   "source": [
    "df['date'] = pd.to_datetime(df['date'])"
   ]
  },
  {
   "cell_type": "markdown",
   "metadata": {},
   "source": [
    "Next, grabbing the month and the year from each date and putting them into new columns called 'month' and 'year' respectively. I will use a simple lambda function combined with the apply method."
   ]
  },
  {
   "cell_type": "code",
   "execution_count": 17,
   "metadata": {},
   "outputs": [],
   "source": [
    "df['month'] = df['date'].apply(lambda x:x.month)"
   ]
  },
  {
   "cell_type": "code",
   "execution_count": 18,
   "metadata": {},
   "outputs": [],
   "source": [
    "df['year'] = df['date'].apply(lambda x:x.year)"
   ]
  },
  {
   "cell_type": "markdown",
   "metadata": {},
   "source": [
    "Now I can drop the original date column as we won't be able to use this."
   ]
  },
  {
   "cell_type": "code",
   "execution_count": 19,
   "metadata": {},
   "outputs": [],
   "source": [
    "df = df.drop('date',axis=1)"
   ]
  },
  {
   "cell_type": "markdown",
   "metadata": {},
   "source": [
    "I will also drop the zipcode column as this is technically a categorical column."
   ]
  },
  {
   "cell_type": "code",
   "execution_count": 20,
   "metadata": {},
   "outputs": [],
   "source": [
    "df = df.drop('zipcode',axis=1)"
   ]
  },
  {
   "cell_type": "code",
   "execution_count": 21,
   "metadata": {},
   "outputs": [
    {
     "data": {
      "text/html": [
       "<div>\n",
       "<style scoped>\n",
       "    .dataframe tbody tr th:only-of-type {\n",
       "        vertical-align: middle;\n",
       "    }\n",
       "\n",
       "    .dataframe tbody tr th {\n",
       "        vertical-align: top;\n",
       "    }\n",
       "\n",
       "    .dataframe thead th {\n",
       "        text-align: right;\n",
       "    }\n",
       "</style>\n",
       "<table border=\"1\" class=\"dataframe\">\n",
       "  <thead>\n",
       "    <tr style=\"text-align: right;\">\n",
       "      <th></th>\n",
       "      <th>price</th>\n",
       "      <th>bedrooms</th>\n",
       "      <th>bathrooms</th>\n",
       "      <th>sqft_living</th>\n",
       "      <th>sqft_lot</th>\n",
       "      <th>floors</th>\n",
       "      <th>waterfront</th>\n",
       "      <th>view</th>\n",
       "      <th>condition</th>\n",
       "      <th>grade</th>\n",
       "      <th>sqft_above</th>\n",
       "      <th>sqft_basement</th>\n",
       "      <th>yr_built</th>\n",
       "      <th>yr_renovated</th>\n",
       "      <th>lat</th>\n",
       "      <th>long</th>\n",
       "      <th>sqft_living15</th>\n",
       "      <th>sqft_lot15</th>\n",
       "      <th>month</th>\n",
       "      <th>year</th>\n",
       "    </tr>\n",
       "  </thead>\n",
       "  <tbody>\n",
       "    <tr>\n",
       "      <th>0</th>\n",
       "      <td>221900.0</td>\n",
       "      <td>3</td>\n",
       "      <td>1.00</td>\n",
       "      <td>1180</td>\n",
       "      <td>5650</td>\n",
       "      <td>1.0</td>\n",
       "      <td>0</td>\n",
       "      <td>0</td>\n",
       "      <td>3</td>\n",
       "      <td>7</td>\n",
       "      <td>1180</td>\n",
       "      <td>0</td>\n",
       "      <td>1955</td>\n",
       "      <td>0</td>\n",
       "      <td>47.5112</td>\n",
       "      <td>-122.257</td>\n",
       "      <td>1340</td>\n",
       "      <td>5650</td>\n",
       "      <td>10</td>\n",
       "      <td>2014</td>\n",
       "    </tr>\n",
       "    <tr>\n",
       "      <th>1</th>\n",
       "      <td>538000.0</td>\n",
       "      <td>3</td>\n",
       "      <td>2.25</td>\n",
       "      <td>2570</td>\n",
       "      <td>7242</td>\n",
       "      <td>2.0</td>\n",
       "      <td>0</td>\n",
       "      <td>0</td>\n",
       "      <td>3</td>\n",
       "      <td>7</td>\n",
       "      <td>2170</td>\n",
       "      <td>400</td>\n",
       "      <td>1951</td>\n",
       "      <td>1991</td>\n",
       "      <td>47.7210</td>\n",
       "      <td>-122.319</td>\n",
       "      <td>1690</td>\n",
       "      <td>7639</td>\n",
       "      <td>12</td>\n",
       "      <td>2014</td>\n",
       "    </tr>\n",
       "    <tr>\n",
       "      <th>2</th>\n",
       "      <td>180000.0</td>\n",
       "      <td>2</td>\n",
       "      <td>1.00</td>\n",
       "      <td>770</td>\n",
       "      <td>10000</td>\n",
       "      <td>1.0</td>\n",
       "      <td>0</td>\n",
       "      <td>0</td>\n",
       "      <td>3</td>\n",
       "      <td>6</td>\n",
       "      <td>770</td>\n",
       "      <td>0</td>\n",
       "      <td>1933</td>\n",
       "      <td>0</td>\n",
       "      <td>47.7379</td>\n",
       "      <td>-122.233</td>\n",
       "      <td>2720</td>\n",
       "      <td>8062</td>\n",
       "      <td>2</td>\n",
       "      <td>2015</td>\n",
       "    </tr>\n",
       "    <tr>\n",
       "      <th>3</th>\n",
       "      <td>604000.0</td>\n",
       "      <td>4</td>\n",
       "      <td>3.00</td>\n",
       "      <td>1960</td>\n",
       "      <td>5000</td>\n",
       "      <td>1.0</td>\n",
       "      <td>0</td>\n",
       "      <td>0</td>\n",
       "      <td>5</td>\n",
       "      <td>7</td>\n",
       "      <td>1050</td>\n",
       "      <td>910</td>\n",
       "      <td>1965</td>\n",
       "      <td>0</td>\n",
       "      <td>47.5208</td>\n",
       "      <td>-122.393</td>\n",
       "      <td>1360</td>\n",
       "      <td>5000</td>\n",
       "      <td>12</td>\n",
       "      <td>2014</td>\n",
       "    </tr>\n",
       "    <tr>\n",
       "      <th>4</th>\n",
       "      <td>510000.0</td>\n",
       "      <td>3</td>\n",
       "      <td>2.00</td>\n",
       "      <td>1680</td>\n",
       "      <td>8080</td>\n",
       "      <td>1.0</td>\n",
       "      <td>0</td>\n",
       "      <td>0</td>\n",
       "      <td>3</td>\n",
       "      <td>8</td>\n",
       "      <td>1680</td>\n",
       "      <td>0</td>\n",
       "      <td>1987</td>\n",
       "      <td>0</td>\n",
       "      <td>47.6168</td>\n",
       "      <td>-122.045</td>\n",
       "      <td>1800</td>\n",
       "      <td>7503</td>\n",
       "      <td>2</td>\n",
       "      <td>2015</td>\n",
       "    </tr>\n",
       "  </tbody>\n",
       "</table>\n",
       "</div>"
      ],
      "text/plain": [
       "      price  bedrooms  bathrooms  sqft_living  sqft_lot  floors  waterfront  \\\n",
       "0  221900.0         3       1.00         1180      5650     1.0           0   \n",
       "1  538000.0         3       2.25         2570      7242     2.0           0   \n",
       "2  180000.0         2       1.00          770     10000     1.0           0   \n",
       "3  604000.0         4       3.00         1960      5000     1.0           0   \n",
       "4  510000.0         3       2.00         1680      8080     1.0           0   \n",
       "\n",
       "   view  condition  grade  sqft_above  sqft_basement  yr_built  yr_renovated  \\\n",
       "0     0          3      7        1180              0      1955             0   \n",
       "1     0          3      7        2170            400      1951          1991   \n",
       "2     0          3      6         770              0      1933             0   \n",
       "3     0          5      7        1050            910      1965             0   \n",
       "4     0          3      8        1680              0      1987             0   \n",
       "\n",
       "       lat     long  sqft_living15  sqft_lot15  month  year  \n",
       "0  47.5112 -122.257           1340        5650     10  2014  \n",
       "1  47.7210 -122.319           1690        7639     12  2014  \n",
       "2  47.7379 -122.233           2720        8062      2  2015  \n",
       "3  47.5208 -122.393           1360        5000     12  2014  \n",
       "4  47.6168 -122.045           1800        7503      2  2015  "
      ]
     },
     "execution_count": 21,
     "metadata": {},
     "output_type": "execute_result"
    }
   ],
   "source": [
    "df.head()"
   ]
  },
  {
   "cell_type": "markdown",
   "metadata": {},
   "source": [
    "Looking at the two columns 'yr_renovated' and 'sqft_basement', it appears that if the houses have not been renovated, or they do not have basements, the value for these is set to 0:"
   ]
  },
  {
   "cell_type": "code",
   "execution_count": 22,
   "metadata": {},
   "outputs": [
    {
     "data": {
      "text/plain": [
       "0       20683\n",
       "2014       91\n",
       "2013       37\n",
       "2003       36\n",
       "2000       35\n",
       "        ...  \n",
       "1934        1\n",
       "1959        1\n",
       "1951        1\n",
       "1948        1\n",
       "1944        1\n",
       "Name: yr_renovated, Length: 70, dtype: int64"
      ]
     },
     "execution_count": 22,
     "metadata": {},
     "output_type": "execute_result"
    }
   ],
   "source": [
    "df['yr_renovated'].value_counts()"
   ]
  },
  {
   "cell_type": "code",
   "execution_count": 23,
   "metadata": {},
   "outputs": [
    {
     "data": {
      "text/plain": [
       "0       13110\n",
       "600       221\n",
       "700       218\n",
       "500       214\n",
       "800       206\n",
       "        ...  \n",
       "792         1\n",
       "2590        1\n",
       "935         1\n",
       "2390        1\n",
       "248         1\n",
       "Name: sqft_basement, Length: 306, dtype: int64"
      ]
     },
     "execution_count": 23,
     "metadata": {},
     "output_type": "execute_result"
    }
   ],
   "source": [
    "df['sqft_basement'].value_counts()"
   ]
  },
  {
   "cell_type": "markdown",
   "metadata": {},
   "source": [
    "We could feature engineer these columns so that if the houses were renovated or had a basement, they would have a value of 1 in those columns, and 0 otherwise. However, we don't have to do this because of the following:"
   ]
  },
  {
   "cell_type": "markdown",
   "metadata": {},
   "source": [
    "For year renovated, houses that were renovated more recently would correlate with a higher price and so we can leave this column as it is.\n",
    "\n",
    "Similar to square footage of basement, a larger basement would correlate with a higher price.\n",
    "\n",
    "We can leave these two variables as continuous in this case."
   ]
  },
  {
   "cell_type": "markdown",
   "metadata": {},
   "source": [
    "## Train Test Split"
   ]
  },
  {
   "cell_type": "markdown",
   "metadata": {},
   "source": [
    "I will split the data into a training set and a test set (70% of the data will be used in the training set)."
   ]
  },
  {
   "cell_type": "code",
   "execution_count": 24,
   "metadata": {},
   "outputs": [],
   "source": [
    "from sklearn.model_selection import train_test_split"
   ]
  },
  {
   "cell_type": "code",
   "execution_count": 25,
   "metadata": {},
   "outputs": [],
   "source": [
    "X = df.drop('price',axis=1)\n",
    "y = df['price']"
   ]
  },
  {
   "cell_type": "code",
   "execution_count": 26,
   "metadata": {},
   "outputs": [],
   "source": [
    "X_train, X_test, y_train, y_test = train_test_split(X,y,test_size=0.3)"
   ]
  },
  {
   "cell_type": "markdown",
   "metadata": {},
   "source": [
    "## Scaling"
   ]
  },
  {
   "cell_type": "markdown",
   "metadata": {},
   "source": [
    "I will do the scaling of the data after the split so I only fit to the training set to prevent data leakage to the test set. I will use MinMaxScaler from sklearn.preprocessing to scale the data."
   ]
  },
  {
   "cell_type": "code",
   "execution_count": 28,
   "metadata": {},
   "outputs": [],
   "source": [
    "from sklearn.preprocessing import MinMaxScaler"
   ]
  },
  {
   "cell_type": "code",
   "execution_count": 29,
   "metadata": {},
   "outputs": [],
   "source": [
    "scaler = MinMaxScaler()"
   ]
  },
  {
   "cell_type": "code",
   "execution_count": 30,
   "metadata": {},
   "outputs": [],
   "source": [
    "X_train= scaler.fit_transform(X_train)"
   ]
  },
  {
   "cell_type": "code",
   "execution_count": 31,
   "metadata": {},
   "outputs": [],
   "source": [
    "X_test = scaler.transform(X_test)"
   ]
  },
  {
   "cell_type": "markdown",
   "metadata": {},
   "source": [
    "I do not fit to the test set because I don't want to assume prior information about the test set."
   ]
  },
  {
   "cell_type": "markdown",
   "metadata": {},
   "source": [
    "## Creating the model"
   ]
  },
  {
   "cell_type": "code",
   "execution_count": 33,
   "metadata": {},
   "outputs": [],
   "source": [
    "from tensorflow.keras.models import Sequential\n",
    "from tensorflow.keras.layers import Dense, Activation\n",
    "from tensorflow.keras.optimizers import Adam"
   ]
  },
  {
   "cell_type": "markdown",
   "metadata": {},
   "source": [
    "I have chosen the 'Adam' optimizer as it is computationally efficient and well suited for problems that are large in terms of data."
   ]
  },
  {
   "cell_type": "code",
   "execution_count": 35,
   "metadata": {},
   "outputs": [
    {
     "data": {
      "text/plain": [
       "(15117, 19)"
      ]
     },
     "execution_count": 35,
     "metadata": {},
     "output_type": "execute_result"
    }
   ],
   "source": [
    "X_train.shape"
   ]
  },
  {
   "cell_type": "markdown",
   "metadata": {},
   "source": [
    "Since the incoming data has 19 features, I think that 19 neurons are a good idea for the first layer of the model. I will use the Rectified Linear Unit (ReLU) activation function as it is easier to train and achieves good performance compared with other activation functions."
   ]
  },
  {
   "cell_type": "markdown",
   "metadata": {},
   "source": [
    "The final layer will have one neuron. This neuron will output the model's predicted price. Since this is a regression problem, I will chose mean squared error as the loss metric for this model."
   ]
  },
  {
   "cell_type": "code",
   "execution_count": 36,
   "metadata": {},
   "outputs": [],
   "source": [
    "model = Sequential()\n",
    "\n",
    "model.add(Dense(19,activation='relu'))\n",
    "model.add(Dense(19,activation='relu'))\n",
    "model.add(Dense(19,activation='relu'))\n",
    "model.add(Dense(19,activation='relu'))\n",
    "model.add(Dense(1))\n",
    "\n",
    "model.compile(optimizer='adam',loss='mse')"
   ]
  },
  {
   "cell_type": "markdown",
   "metadata": {},
   "source": [
    "# Training"
   ]
  },
  {
   "cell_type": "markdown",
   "metadata": {},
   "source": [
    "I will use the test data as validation data so that I can see how well the model is performing on the test data after each epoch. (One epoch means that each sample in the training dataset has had an opportunity to update the internal model parameters.)"
   ]
  },
  {
   "cell_type": "markdown",
   "metadata": {},
   "source": [
    "Since this is large dataset, I will use a batch size of 64. This is a trade off between time taken to train the model and avoiding overfitting the model to the training data."
   ]
  },
  {
   "cell_type": "code",
   "execution_count": 37,
   "metadata": {},
   "outputs": [
    {
     "name": "stdout",
     "output_type": "stream",
     "text": [
      "Epoch 1/500\n",
      "237/237 [==============================] - 3s 4ms/step - loss: 422484017152.0000 - val_loss: 430664908800.0000\n",
      "Epoch 2/500\n",
      "237/237 [==============================] - 1s 3ms/step - loss: 358337249280.0000 - val_loss: 243864190976.0000\n",
      "Epoch 3/500\n",
      "237/237 [==============================] - 1s 3ms/step - loss: 127523717120.0000 - val_loss: 104254808064.0000\n",
      "Epoch 4/500\n",
      "237/237 [==============================] - 1s 3ms/step - loss: 94514257920.0000 - val_loss: 100845486080.0000\n",
      "Epoch 5/500\n",
      "237/237 [==============================] - 1s 4ms/step - loss: 91304312832.0000 - val_loss: 97464967168.0000\n",
      "Epoch 6/500\n",
      "237/237 [==============================] - 1s 3ms/step - loss: 88125882368.0000 - val_loss: 93897424896.0000\n",
      "Epoch 7/500\n",
      "237/237 [==============================] - 1s 3ms/step - loss: 84721582080.0000 - val_loss: 90090397696.0000\n",
      "Epoch 8/500\n",
      "237/237 [==============================] - 1s 3ms/step - loss: 81055113216.0000 - val_loss: 86018613248.0000\n",
      "Epoch 9/500\n",
      "237/237 [==============================] - 1s 3ms/step - loss: 77107175424.0000 - val_loss: 81567997952.0000\n",
      "Epoch 10/500\n",
      "237/237 [==============================] - 1s 3ms/step - loss: 72844484608.0000 - val_loss: 76830818304.0000\n",
      "Epoch 11/500\n",
      "237/237 [==============================] - 1s 3ms/step - loss: 68378271744.0000 - val_loss: 71870390272.0000\n",
      "Epoch 12/500\n",
      "237/237 [==============================] - 1s 4ms/step - loss: 63820058624.0000 - val_loss: 66891698176.0000\n",
      "Epoch 13/500\n",
      "237/237 [==============================] - 1s 4ms/step - loss: 59471446016.0000 - val_loss: 62502727680.0000\n",
      "Epoch 14/500\n",
      "237/237 [==============================] - 1s 3ms/step - loss: 55822106624.0000 - val_loss: 58723659776.0000\n",
      "Epoch 15/500\n",
      "237/237 [==============================] - 1s 3ms/step - loss: 52925607936.0000 - val_loss: 55870349312.0000\n",
      "Epoch 16/500\n",
      "237/237 [==============================] - 1s 4ms/step - loss: 50808942592.0000 - val_loss: 53970771968.0000\n",
      "Epoch 17/500\n",
      "237/237 [==============================] - 1s 3ms/step - loss: 49310187520.0000 - val_loss: 52305477632.0000\n",
      "Epoch 18/500\n",
      "237/237 [==============================] - 1s 3ms/step - loss: 48127381504.0000 - val_loss: 51076308992.0000\n",
      "Epoch 19/500\n",
      "237/237 [==============================] - 1s 3ms/step - loss: 47199408128.0000 - val_loss: 50104307712.0000\n",
      "Epoch 20/500\n",
      "237/237 [==============================] - 1s 3ms/step - loss: 46407417856.0000 - val_loss: 49191522304.0000\n",
      "Epoch 21/500\n",
      "237/237 [==============================] - 1s 3ms/step - loss: 45640032256.0000 - val_loss: 48442781696.0000\n",
      "Epoch 22/500\n",
      "237/237 [==============================] - 1s 3ms/step - loss: 44962144256.0000 - val_loss: 47536934912.0000\n",
      "Epoch 23/500\n",
      "237/237 [==============================] - 1s 3ms/step - loss: 44309622784.0000 - val_loss: 47108808704.0000\n",
      "Epoch 24/500\n",
      "237/237 [==============================] - 1s 3ms/step - loss: 43789783040.0000 - val_loss: 46196830208.0000\n",
      "Epoch 25/500\n",
      "237/237 [==============================] - 1s 3ms/step - loss: 43259863040.0000 - val_loss: 45579743232.0000\n",
      "Epoch 26/500\n",
      "237/237 [==============================] - 1s 3ms/step - loss: 42741940224.0000 - val_loss: 45001256960.0000\n",
      "Epoch 27/500\n",
      "237/237 [==============================] - 1s 4ms/step - loss: 42252107776.0000 - val_loss: 44467802112.0000\n",
      "Epoch 28/500\n",
      "237/237 [==============================] - 1s 3ms/step - loss: 41838260224.0000 - val_loss: 43981635584.0000\n",
      "Epoch 29/500\n",
      "237/237 [==============================] - 1s 3ms/step - loss: 41387200512.0000 - val_loss: 43454476288.0000\n",
      "Epoch 30/500\n",
      "237/237 [==============================] - 1s 3ms/step - loss: 41022795776.0000 - val_loss: 43020197888.0000\n",
      "Epoch 31/500\n",
      "237/237 [==============================] - 1s 3ms/step - loss: 40684326912.0000 - val_loss: 42637053952.0000\n",
      "Epoch 32/500\n",
      "237/237 [==============================] - 1s 4ms/step - loss: 40385912832.0000 - val_loss: 42241216512.0000\n",
      "Epoch 33/500\n",
      "237/237 [==============================] - 1s 3ms/step - loss: 40037683200.0000 - val_loss: 41907093504.0000\n",
      "Epoch 34/500\n",
      "237/237 [==============================] - 1s 3ms/step - loss: 39778217984.0000 - val_loss: 41554198528.0000\n",
      "Epoch 35/500\n",
      "237/237 [==============================] - 1s 3ms/step - loss: 39501148160.0000 - val_loss: 41218400256.0000\n",
      "Epoch 36/500\n",
      "237/237 [==============================] - 1s 3ms/step - loss: 39217950720.0000 - val_loss: 40896815104.0000\n",
      "Epoch 37/500\n",
      "237/237 [==============================] - 1s 3ms/step - loss: 38964756480.0000 - val_loss: 40599969792.0000\n",
      "Epoch 38/500\n",
      "237/237 [==============================] - 1s 4ms/step - loss: 38660988928.0000 - val_loss: 40369913856.0000\n",
      "Epoch 39/500\n",
      "237/237 [==============================] - 1s 3ms/step - loss: 38311591936.0000 - val_loss: 39801303040.0000\n",
      "Epoch 40/500\n",
      "237/237 [==============================] - 1s 3ms/step - loss: 38056656896.0000 - val_loss: 39417868288.0000\n",
      "Epoch 41/500\n",
      "237/237 [==============================] - 1s 3ms/step - loss: 37713735680.0000 - val_loss: 39028248576.0000\n",
      "Epoch 42/500\n",
      "237/237 [==============================] - 1s 3ms/step - loss: 37371125760.0000 - val_loss: 38591770624.0000\n",
      "Epoch 43/500\n",
      "237/237 [==============================] - 1s 4ms/step - loss: 37074845696.0000 - val_loss: 38228692992.0000\n",
      "Epoch 44/500\n",
      "237/237 [==============================] - 1s 4ms/step - loss: 36784402432.0000 - val_loss: 37872799744.0000\n",
      "Epoch 45/500\n",
      "237/237 [==============================] - 1s 4ms/step - loss: 36534779904.0000 - val_loss: 37537546240.0000\n",
      "Epoch 46/500\n",
      "237/237 [==============================] - 1s 4ms/step - loss: 36372566016.0000 - val_loss: 37271285760.0000\n",
      "Epoch 47/500\n",
      "237/237 [==============================] - 1s 4ms/step - loss: 36103106560.0000 - val_loss: 37021769728.0000\n",
      "Epoch 48/500\n",
      "237/237 [==============================] - 1s 4ms/step - loss: 35969384448.0000 - val_loss: 36803956736.0000\n",
      "Epoch 49/500\n",
      "237/237 [==============================] - 1s 4ms/step - loss: 35741360128.0000 - val_loss: 36555833344.0000\n",
      "Epoch 50/500\n",
      "237/237 [==============================] - 1s 4ms/step - loss: 35600392192.0000 - val_loss: 36328370176.0000\n",
      "Epoch 51/500\n",
      "237/237 [==============================] - 1s 3ms/step - loss: 35450433536.0000 - val_loss: 36240117760.0000\n",
      "Epoch 52/500\n",
      "237/237 [==============================] - 1s 3ms/step - loss: 35284594688.0000 - val_loss: 35908599808.0000\n",
      "Epoch 53/500\n",
      "237/237 [==============================] - 1s 3ms/step - loss: 35133083648.0000 - val_loss: 35760975872.0000\n",
      "Epoch 54/500\n",
      "237/237 [==============================] - 1s 3ms/step - loss: 35009028096.0000 - val_loss: 35577942016.0000\n",
      "Epoch 55/500\n",
      "237/237 [==============================] - 1s 3ms/step - loss: 34873610240.0000 - val_loss: 35426172928.0000\n",
      "Epoch 56/500\n",
      "237/237 [==============================] - 1s 3ms/step - loss: 34783997952.0000 - val_loss: 35268407296.0000\n",
      "Epoch 57/500\n",
      "237/237 [==============================] - 1s 3ms/step - loss: 34594349056.0000 - val_loss: 35135696896.0000\n",
      "Epoch 58/500\n",
      "237/237 [==============================] - 1s 4ms/step - loss: 34516828160.0000 - val_loss: 34923339776.0000\n",
      "Epoch 59/500\n",
      "237/237 [==============================] - 1s 4ms/step - loss: 34405597184.0000 - val_loss: 34777669632.0000\n",
      "Epoch 60/500\n",
      "237/237 [==============================] - 1s 3ms/step - loss: 34224908288.0000 - val_loss: 34598424576.0000\n",
      "Epoch 61/500\n",
      "237/237 [==============================] - 1s 3ms/step - loss: 34141435904.0000 - val_loss: 34470834176.0000\n",
      "Epoch 62/500\n",
      "237/237 [==============================] - 1s 3ms/step - loss: 34037231616.0000 - val_loss: 34330419200.0000\n",
      "Epoch 63/500\n",
      "237/237 [==============================] - 1s 3ms/step - loss: 33941762048.0000 - val_loss: 34214297600.0000\n",
      "Epoch 64/500\n",
      "237/237 [==============================] - 1s 3ms/step - loss: 33816190976.0000 - val_loss: 34098368512.0000\n",
      "Epoch 65/500\n",
      "237/237 [==============================] - 1s 3ms/step - loss: 33790275584.0000 - val_loss: 33947973632.0000\n",
      "Epoch 66/500\n",
      "237/237 [==============================] - 1s 3ms/step - loss: 33668040704.0000 - val_loss: 33831118848.0000\n",
      "Epoch 67/500\n",
      "237/237 [==============================] - 1s 3ms/step - loss: 33593278464.0000 - val_loss: 33859225600.0000\n",
      "Epoch 68/500\n"
     ]
    },
    {
     "name": "stdout",
     "output_type": "stream",
     "text": [
      "237/237 [==============================] - 1s 4ms/step - loss: 33507604480.0000 - val_loss: 33666965504.0000\n",
      "Epoch 69/500\n",
      "237/237 [==============================] - 1s 4ms/step - loss: 33440944128.0000 - val_loss: 33529944064.0000\n",
      "Epoch 70/500\n",
      "237/237 [==============================] - 1s 4ms/step - loss: 33353631744.0000 - val_loss: 33427650560.0000\n",
      "Epoch 71/500\n",
      "237/237 [==============================] - 1s 3ms/step - loss: 33271228416.0000 - val_loss: 33332097024.0000\n",
      "Epoch 72/500\n",
      "237/237 [==============================] - 1s 4ms/step - loss: 33243916288.0000 - val_loss: 33218390016.0000\n",
      "Epoch 73/500\n",
      "237/237 [==============================] - 1s 4ms/step - loss: 33168717824.0000 - val_loss: 33249564672.0000\n",
      "Epoch 74/500\n",
      "237/237 [==============================] - 1s 3ms/step - loss: 33076652032.0000 - val_loss: 33059895296.0000\n",
      "Epoch 75/500\n",
      "237/237 [==============================] - 1s 3ms/step - loss: 33026168832.0000 - val_loss: 33029101568.0000\n",
      "Epoch 76/500\n",
      "237/237 [==============================] - 1s 3ms/step - loss: 32950411264.0000 - val_loss: 32971403264.0000\n",
      "Epoch 77/500\n",
      "237/237 [==============================] - 1s 4ms/step - loss: 32886734848.0000 - val_loss: 32869056512.0000\n",
      "Epoch 78/500\n",
      "237/237 [==============================] - 1s 4ms/step - loss: 32867489792.0000 - val_loss: 32899276800.0000\n",
      "Epoch 79/500\n",
      "237/237 [==============================] - 1s 3ms/step - loss: 32790482944.0000 - val_loss: 32706027520.0000\n",
      "Epoch 80/500\n",
      "237/237 [==============================] - 1s 3ms/step - loss: 32810004480.0000 - val_loss: 32622405632.0000\n",
      "Epoch 81/500\n",
      "237/237 [==============================] - 1s 3ms/step - loss: 32678621184.0000 - val_loss: 32555003904.0000\n",
      "Epoch 82/500\n",
      "237/237 [==============================] - 1s 3ms/step - loss: 32683284480.0000 - val_loss: 32572944384.0000\n",
      "Epoch 83/500\n",
      "237/237 [==============================] - 1s 3ms/step - loss: 32600190976.0000 - val_loss: 32548337664.0000\n",
      "Epoch 84/500\n",
      "237/237 [==============================] - 1s 3ms/step - loss: 32526962688.0000 - val_loss: 32474898432.0000\n",
      "Epoch 85/500\n",
      "237/237 [==============================] - 1s 3ms/step - loss: 32554293248.0000 - val_loss: 32325226496.0000\n",
      "Epoch 86/500\n",
      "237/237 [==============================] - 1s 3ms/step - loss: 32444667904.0000 - val_loss: 32275769344.0000\n",
      "Epoch 87/500\n",
      "237/237 [==============================] - 1s 4ms/step - loss: 32404127744.0000 - val_loss: 32205010944.0000\n",
      "Epoch 88/500\n",
      "237/237 [==============================] - 1s 3ms/step - loss: 32346736640.0000 - val_loss: 32152897536.0000\n",
      "Epoch 89/500\n",
      "237/237 [==============================] - 1s 3ms/step - loss: 32348899328.0000 - val_loss: 32111120384.0000\n",
      "Epoch 90/500\n",
      "237/237 [==============================] - 1s 3ms/step - loss: 32268875776.0000 - val_loss: 32087545856.0000\n",
      "Epoch 91/500\n",
      "237/237 [==============================] - 1s 3ms/step - loss: 32232155136.0000 - val_loss: 31966840832.0000\n",
      "Epoch 92/500\n",
      "237/237 [==============================] - 1s 3ms/step - loss: 32164974592.0000 - val_loss: 31928276992.0000\n",
      "Epoch 93/500\n",
      "237/237 [==============================] - 1s 3ms/step - loss: 32178464768.0000 - val_loss: 31847905280.0000\n",
      "Epoch 94/500\n",
      "237/237 [==============================] - 1s 3ms/step - loss: 32129464320.0000 - val_loss: 31796101120.0000\n",
      "Epoch 95/500\n",
      "237/237 [==============================] - 1s 3ms/step - loss: 32046336000.0000 - val_loss: 31754647552.0000\n",
      "Epoch 96/500\n",
      "237/237 [==============================] - 1s 3ms/step - loss: 32024944640.0000 - val_loss: 31820943360.0000\n",
      "Epoch 97/500\n",
      "237/237 [==============================] - 1s 3ms/step - loss: 31960868864.0000 - val_loss: 31658330112.0000\n",
      "Epoch 98/500\n",
      "237/237 [==============================] - 1s 3ms/step - loss: 31975661568.0000 - val_loss: 31695865856.0000\n",
      "Epoch 99/500\n",
      "237/237 [==============================] - 1s 3ms/step - loss: 31887759360.0000 - val_loss: 31677831168.0000\n",
      "Epoch 100/500\n",
      "237/237 [==============================] - 1s 3ms/step - loss: 31853539328.0000 - val_loss: 31591086080.0000\n",
      "Epoch 101/500\n",
      "237/237 [==============================] - 1s 3ms/step - loss: 31846891520.0000 - val_loss: 31554166784.0000\n",
      "Epoch 102/500\n",
      "237/237 [==============================] - 1s 3ms/step - loss: 31767840768.0000 - val_loss: 31468861440.0000\n",
      "Epoch 103/500\n",
      "237/237 [==============================] - 1s 3ms/step - loss: 31742418944.0000 - val_loss: 31416432640.0000\n",
      "Epoch 104/500\n",
      "237/237 [==============================] - 1s 3ms/step - loss: 31691292672.0000 - val_loss: 31385186304.0000\n",
      "Epoch 105/500\n",
      "237/237 [==============================] - 1s 3ms/step - loss: 31732658176.0000 - val_loss: 31348768768.0000\n",
      "Epoch 106/500\n",
      "237/237 [==============================] - 1s 3ms/step - loss: 31656421376.0000 - val_loss: 31319552000.0000\n",
      "Epoch 107/500\n",
      "237/237 [==============================] - 1s 3ms/step - loss: 31667574784.0000 - val_loss: 31250749440.0000\n",
      "Epoch 108/500\n",
      "237/237 [==============================] - 1s 3ms/step - loss: 31629471744.0000 - val_loss: 31211651072.0000\n",
      "Epoch 109/500\n",
      "237/237 [==============================] - 1s 3ms/step - loss: 31551352832.0000 - val_loss: 31381633024.0000\n",
      "Epoch 110/500\n",
      "237/237 [==============================] - 1s 3ms/step - loss: 31568543744.0000 - val_loss: 31144519680.0000\n",
      "Epoch 111/500\n",
      "237/237 [==============================] - 1s 3ms/step - loss: 31511568384.0000 - val_loss: 31090993152.0000\n",
      "Epoch 112/500\n",
      "237/237 [==============================] - 1s 4ms/step - loss: 31430920192.0000 - val_loss: 31101634560.0000\n",
      "Epoch 113/500\n",
      "237/237 [==============================] - 1s 4ms/step - loss: 31405754368.0000 - val_loss: 31032844288.0000\n",
      "Epoch 114/500\n",
      "237/237 [==============================] - 1s 4ms/step - loss: 31486062592.0000 - val_loss: 30979655680.0000\n",
      "Epoch 115/500\n",
      "237/237 [==============================] - 1s 3ms/step - loss: 31332509696.0000 - val_loss: 31054065664.0000\n",
      "Epoch 116/500\n",
      "237/237 [==============================] - 1s 3ms/step - loss: 31372304384.0000 - val_loss: 30908735488.0000\n",
      "Epoch 117/500\n",
      "237/237 [==============================] - 1s 3ms/step - loss: 31318489088.0000 - val_loss: 30858928128.0000\n",
      "Epoch 118/500\n",
      "237/237 [==============================] - 1s 3ms/step - loss: 31332513792.0000 - val_loss: 30808846336.0000\n",
      "Epoch 119/500\n",
      "237/237 [==============================] - 1s 3ms/step - loss: 31236136960.0000 - val_loss: 30781038592.0000\n",
      "Epoch 120/500\n",
      "237/237 [==============================] - 1s 3ms/step - loss: 31235756032.0000 - val_loss: 30874425344.0000\n",
      "Epoch 121/500\n",
      "237/237 [==============================] - 1s 3ms/step - loss: 31185741824.0000 - val_loss: 30718429184.0000\n",
      "Epoch 122/500\n",
      "237/237 [==============================] - 1s 3ms/step - loss: 31138357248.0000 - val_loss: 30826975232.0000\n",
      "Epoch 123/500\n",
      "237/237 [==============================] - 1s 3ms/step - loss: 31141896192.0000 - val_loss: 30810800128.0000\n",
      "Epoch 124/500\n",
      "237/237 [==============================] - 1s 3ms/step - loss: 31112906752.0000 - val_loss: 31003871232.0000\n",
      "Epoch 125/500\n",
      "237/237 [==============================] - 1s 3ms/step - loss: 31120760832.0000 - val_loss: 30742382592.0000\n",
      "Epoch 126/500\n",
      "237/237 [==============================] - 1s 3ms/step - loss: 31090270208.0000 - val_loss: 30679943168.0000\n",
      "Epoch 127/500\n",
      "237/237 [==============================] - 1s 4ms/step - loss: 31066443776.0000 - val_loss: 30574430208.0000\n",
      "Epoch 128/500\n",
      "237/237 [==============================] - 1s 4ms/step - loss: 31007750144.0000 - val_loss: 30542198784.0000\n",
      "Epoch 129/500\n",
      "237/237 [==============================] - 1s 4ms/step - loss: 31011811328.0000 - val_loss: 30549872640.0000\n",
      "Epoch 130/500\n",
      "237/237 [==============================] - 1s 3ms/step - loss: 30951245824.0000 - val_loss: 30488154112.0000\n",
      "Epoch 131/500\n",
      "237/237 [==============================] - 1s 3ms/step - loss: 30958548992.0000 - val_loss: 30480388096.0000\n",
      "Epoch 132/500\n",
      "237/237 [==============================] - 1s 3ms/step - loss: 30937669632.0000 - val_loss: 30437054464.0000\n",
      "Epoch 133/500\n",
      "237/237 [==============================] - 1s 3ms/step - loss: 30896762880.0000 - val_loss: 30423812096.0000\n",
      "Epoch 134/500\n",
      "237/237 [==============================] - 1s 3ms/step - loss: 30851348480.0000 - val_loss: 30420770816.0000\n"
     ]
    },
    {
     "name": "stdout",
     "output_type": "stream",
     "text": [
      "Epoch 135/500\n",
      "237/237 [==============================] - 1s 3ms/step - loss: 30864115712.0000 - val_loss: 30419726336.0000\n",
      "Epoch 136/500\n",
      "237/237 [==============================] - 1s 3ms/step - loss: 30838571008.0000 - val_loss: 30332913664.0000\n",
      "Epoch 137/500\n",
      "237/237 [==============================] - 1s 3ms/step - loss: 30791847936.0000 - val_loss: 30530738176.0000\n",
      "Epoch 138/500\n",
      "237/237 [==============================] - 1s 3ms/step - loss: 30825101312.0000 - val_loss: 30265851904.0000\n",
      "Epoch 139/500\n",
      "237/237 [==============================] - 1s 3ms/step - loss: 30800238592.0000 - val_loss: 30244528128.0000\n",
      "Epoch 140/500\n",
      "237/237 [==============================] - 1s 3ms/step - loss: 30733019136.0000 - val_loss: 30304798720.0000\n",
      "Epoch 141/500\n",
      "237/237 [==============================] - 1s 3ms/step - loss: 30733996032.0000 - val_loss: 30193393664.0000\n",
      "Epoch 142/500\n",
      "237/237 [==============================] - 1s 3ms/step - loss: 30714564608.0000 - val_loss: 30170198016.0000\n",
      "Epoch 143/500\n",
      "237/237 [==============================] - 1s 4ms/step - loss: 30649901056.0000 - val_loss: 30123683840.0000\n",
      "Epoch 144/500\n",
      "237/237 [==============================] - 1s 3ms/step - loss: 30663008256.0000 - val_loss: 30112282624.0000\n",
      "Epoch 145/500\n",
      "237/237 [==============================] - 1s 3ms/step - loss: 30649759744.0000 - val_loss: 30080794624.0000\n",
      "Epoch 146/500\n",
      "237/237 [==============================] - 1s 3ms/step - loss: 30603028480.0000 - val_loss: 30127099904.0000\n",
      "Epoch 147/500\n",
      "237/237 [==============================] - 1s 3ms/step - loss: 30646700032.0000 - val_loss: 30036133888.0000\n",
      "Epoch 148/500\n",
      "237/237 [==============================] - 1s 3ms/step - loss: 30558009344.0000 - val_loss: 30031777792.0000\n",
      "Epoch 149/500\n",
      "237/237 [==============================] - 1s 3ms/step - loss: 30534313984.0000 - val_loss: 29996136448.0000\n",
      "Epoch 150/500\n",
      "237/237 [==============================] - 1s 3ms/step - loss: 30509273088.0000 - val_loss: 29962164224.0000\n",
      "Epoch 151/500\n",
      "237/237 [==============================] - 1s 3ms/step - loss: 30473277440.0000 - val_loss: 29942149120.0000\n",
      "Epoch 152/500\n",
      "237/237 [==============================] - 1s 3ms/step - loss: 30461011968.0000 - val_loss: 30017343488.0000\n",
      "Epoch 153/500\n",
      "237/237 [==============================] - 1s 3ms/step - loss: 30456750080.0000 - val_loss: 29886793728.0000\n",
      "Epoch 154/500\n",
      "237/237 [==============================] - 1s 3ms/step - loss: 30458419200.0000 - val_loss: 29866782720.0000\n",
      "Epoch 155/500\n",
      "237/237 [==============================] - 1s 3ms/step - loss: 30332860416.0000 - val_loss: 29898975232.0000\n",
      "Epoch 156/500\n",
      "237/237 [==============================] - 1s 3ms/step - loss: 30428620800.0000 - val_loss: 29845118976.0000\n",
      "Epoch 157/500\n",
      "237/237 [==============================] - 1s 3ms/step - loss: 30344650752.0000 - val_loss: 29807323136.0000\n",
      "Epoch 158/500\n",
      "237/237 [==============================] - 1s 3ms/step - loss: 30345517056.0000 - val_loss: 29780152320.0000\n",
      "Epoch 159/500\n",
      "237/237 [==============================] - 1s 3ms/step - loss: 30312431616.0000 - val_loss: 29810741248.0000\n",
      "Epoch 160/500\n",
      "237/237 [==============================] - 1s 3ms/step - loss: 30353281024.0000 - val_loss: 29728489472.0000\n",
      "Epoch 161/500\n",
      "237/237 [==============================] - 1s 3ms/step - loss: 30308761600.0000 - val_loss: 29700280320.0000\n",
      "Epoch 162/500\n",
      "237/237 [==============================] - 1s 3ms/step - loss: 30253629440.0000 - val_loss: 29691990016.0000\n",
      "Epoch 163/500\n",
      "237/237 [==============================] - 1s 3ms/step - loss: 30205833216.0000 - val_loss: 29695250432.0000\n",
      "Epoch 164/500\n",
      "237/237 [==============================] - 1s 3ms/step - loss: 30223142912.0000 - val_loss: 29655578624.0000\n",
      "Epoch 165/500\n",
      "237/237 [==============================] - 1s 3ms/step - loss: 30159230976.0000 - val_loss: 29776605184.0000\n",
      "Epoch 166/500\n",
      "237/237 [==============================] - 1s 3ms/step - loss: 30157086720.0000 - val_loss: 29574565888.0000\n",
      "Epoch 167/500\n",
      "237/237 [==============================] - 1s 3ms/step - loss: 30140416000.0000 - val_loss: 29566326784.0000\n",
      "Epoch 168/500\n",
      "237/237 [==============================] - 1s 3ms/step - loss: 30100678656.0000 - val_loss: 29618061312.0000\n",
      "Epoch 169/500\n",
      "237/237 [==============================] - 1s 3ms/step - loss: 30115936256.0000 - val_loss: 29516421120.0000\n",
      "Epoch 170/500\n",
      "237/237 [==============================] - 1s 3ms/step - loss: 30052663296.0000 - val_loss: 29491863552.0000\n",
      "Epoch 171/500\n",
      "237/237 [==============================] - 1s 3ms/step - loss: 30040064000.0000 - val_loss: 29458046976.0000\n",
      "Epoch 172/500\n",
      "237/237 [==============================] - 1s 3ms/step - loss: 30034272256.0000 - val_loss: 29421182976.0000\n",
      "Epoch 173/500\n",
      "237/237 [==============================] - 1s 3ms/step - loss: 30039691264.0000 - val_loss: 29460465664.0000\n",
      "Epoch 174/500\n",
      "237/237 [==============================] - 1s 3ms/step - loss: 30090170368.0000 - val_loss: 29384718336.0000\n",
      "Epoch 175/500\n",
      "237/237 [==============================] - 1s 3ms/step - loss: 29980055552.0000 - val_loss: 29368594432.0000\n",
      "Epoch 176/500\n",
      "237/237 [==============================] - 1s 3ms/step - loss: 29979049984.0000 - val_loss: 29338943488.0000\n",
      "Epoch 177/500\n",
      "237/237 [==============================] - 1s 3ms/step - loss: 29934350336.0000 - val_loss: 29293228032.0000\n",
      "Epoch 178/500\n",
      "237/237 [==============================] - 1s 3ms/step - loss: 29960198144.0000 - val_loss: 29274263552.0000\n",
      "Epoch 179/500\n",
      "237/237 [==============================] - 1s 4ms/step - loss: 29912635392.0000 - val_loss: 29278703616.0000\n",
      "Epoch 180/500\n",
      "237/237 [==============================] - 1s 3ms/step - loss: 29848559616.0000 - val_loss: 29228054528.0000\n",
      "Epoch 181/500\n",
      "237/237 [==============================] - 1s 4ms/step - loss: 29874063360.0000 - val_loss: 29182908416.0000\n",
      "Epoch 182/500\n",
      "237/237 [==============================] - 1s 3ms/step - loss: 29857671168.0000 - val_loss: 29208092672.0000\n",
      "Epoch 183/500\n",
      "237/237 [==============================] - 1s 4ms/step - loss: 29817208832.0000 - val_loss: 29262417920.0000\n",
      "Epoch 184/500\n",
      "237/237 [==============================] - 1s 3ms/step - loss: 29812537344.0000 - val_loss: 29301659648.0000\n",
      "Epoch 185/500\n",
      "237/237 [==============================] - 1s 3ms/step - loss: 29772339200.0000 - val_loss: 29191315456.0000\n",
      "Epoch 186/500\n",
      "237/237 [==============================] - 1s 3ms/step - loss: 29756319744.0000 - val_loss: 29105119232.0000\n",
      "Epoch 187/500\n",
      "237/237 [==============================] - 1s 4ms/step - loss: 29714911232.0000 - val_loss: 29225400320.0000\n",
      "Epoch 188/500\n",
      "237/237 [==============================] - 1s 3ms/step - loss: 29726701568.0000 - val_loss: 29055799296.0000\n",
      "Epoch 189/500\n",
      "237/237 [==============================] - 1s 4ms/step - loss: 29661140992.0000 - val_loss: 29171955712.0000\n",
      "Epoch 190/500\n",
      "237/237 [==============================] - 1s 3ms/step - loss: 29696186368.0000 - val_loss: 29011683328.0000\n",
      "Epoch 191/500\n",
      "237/237 [==============================] - 1s 3ms/step - loss: 29635076096.0000 - val_loss: 29009276928.0000\n",
      "Epoch 192/500\n",
      "237/237 [==============================] - 1s 4ms/step - loss: 29645152256.0000 - val_loss: 29051719680.0000\n",
      "Epoch 193/500\n",
      "237/237 [==============================] - 1s 5ms/step - loss: 29624616960.0000 - val_loss: 29040439296.0000\n",
      "Epoch 194/500\n",
      "237/237 [==============================] - 1s 5ms/step - loss: 29579474944.0000 - val_loss: 28940189696.0000\n",
      "Epoch 195/500\n",
      "237/237 [==============================] - 1s 5ms/step - loss: 29553983488.0000 - val_loss: 28903192576.0000\n",
      "Epoch 196/500\n",
      "237/237 [==============================] - 1s 5ms/step - loss: 29521903616.0000 - val_loss: 29019430912.0000\n",
      "Epoch 197/500\n",
      "237/237 [==============================] - 1s 3ms/step - loss: 29546409984.0000 - val_loss: 28839665664.0000\n",
      "Epoch 198/500\n",
      "237/237 [==============================] - 1s 3ms/step - loss: 29484412928.0000 - val_loss: 28954370048.0000\n",
      "Epoch 199/500\n",
      "237/237 [==============================] - 1s 3ms/step - loss: 29503420416.0000 - val_loss: 28786055168.0000\n",
      "Epoch 200/500\n",
      "237/237 [==============================] - 1s 3ms/step - loss: 29506764800.0000 - val_loss: 28884496384.0000\n",
      "Epoch 201/500\n"
     ]
    },
    {
     "name": "stdout",
     "output_type": "stream",
     "text": [
      "237/237 [==============================] - 1s 3ms/step - loss: 29469401088.0000 - val_loss: 28770613248.0000\n",
      "Epoch 202/500\n",
      "237/237 [==============================] - 1s 3ms/step - loss: 29424758784.0000 - val_loss: 28747919360.0000\n",
      "Epoch 203/500\n",
      "237/237 [==============================] - 1s 3ms/step - loss: 29420324864.0000 - val_loss: 28695957504.0000\n",
      "Epoch 204/500\n",
      "237/237 [==============================] - 1s 4ms/step - loss: 29387497472.0000 - val_loss: 28743800832.0000\n",
      "Epoch 205/500\n",
      "237/237 [==============================] - 1s 4ms/step - loss: 29383972864.0000 - val_loss: 28649670656.0000\n",
      "Epoch 206/500\n",
      "237/237 [==============================] - 1s 3ms/step - loss: 29375707136.0000 - val_loss: 28661776384.0000\n",
      "Epoch 207/500\n",
      "237/237 [==============================] - 1s 3ms/step - loss: 29345290240.0000 - val_loss: 28653645824.0000\n",
      "Epoch 208/500\n",
      "237/237 [==============================] - 1s 3ms/step - loss: 29293334528.0000 - val_loss: 28666558464.0000\n",
      "Epoch 209/500\n",
      "237/237 [==============================] - 1s 3ms/step - loss: 29305675776.0000 - val_loss: 28554528768.0000\n",
      "Epoch 210/500\n",
      "237/237 [==============================] - 1s 3ms/step - loss: 29247234048.0000 - val_loss: 28533182464.0000\n",
      "Epoch 211/500\n",
      "237/237 [==============================] - 1s 3ms/step - loss: 29256669184.0000 - val_loss: 28511313920.0000\n",
      "Epoch 212/500\n",
      "237/237 [==============================] - 1s 3ms/step - loss: 29238902784.0000 - val_loss: 28511332352.0000\n",
      "Epoch 213/500\n",
      "237/237 [==============================] - 1s 3ms/step - loss: 29226121216.0000 - val_loss: 28459499520.0000\n",
      "Epoch 214/500\n",
      "237/237 [==============================] - 1s 3ms/step - loss: 29191673856.0000 - val_loss: 28498483200.0000\n",
      "Epoch 215/500\n",
      "237/237 [==============================] - 1s 3ms/step - loss: 29147133952.0000 - val_loss: 28547788800.0000\n",
      "Epoch 216/500\n",
      "237/237 [==============================] - 1s 3ms/step - loss: 29174620160.0000 - val_loss: 28381065216.0000\n",
      "Epoch 217/500\n",
      "237/237 [==============================] - 1s 3ms/step - loss: 29136322560.0000 - val_loss: 28384098304.0000\n",
      "Epoch 218/500\n",
      "237/237 [==============================] - 1s 3ms/step - loss: 29073457152.0000 - val_loss: 28480712704.0000\n",
      "Epoch 219/500\n",
      "237/237 [==============================] - 1s 4ms/step - loss: 29031897088.0000 - val_loss: 28400908288.0000\n",
      "Epoch 220/500\n",
      "237/237 [==============================] - 1s 3ms/step - loss: 29103079424.0000 - val_loss: 28517339136.0000\n",
      "Epoch 221/500\n",
      "237/237 [==============================] - 1s 3ms/step - loss: 29032851456.0000 - val_loss: 28313110528.0000\n",
      "Epoch 222/500\n",
      "237/237 [==============================] - 1s 3ms/step - loss: 29023766528.0000 - val_loss: 28285782016.0000\n",
      "Epoch 223/500\n",
      "237/237 [==============================] - 1s 3ms/step - loss: 29032759296.0000 - val_loss: 28288647168.0000\n",
      "Epoch 224/500\n",
      "237/237 [==============================] - 1s 3ms/step - loss: 28969402368.0000 - val_loss: 28211408896.0000\n",
      "Epoch 225/500\n",
      "237/237 [==============================] - 1s 3ms/step - loss: 28973658112.0000 - val_loss: 28197746688.0000\n",
      "Epoch 226/500\n",
      "237/237 [==============================] - 1s 3ms/step - loss: 28965171200.0000 - val_loss: 28196100096.0000\n",
      "Epoch 227/500\n",
      "237/237 [==============================] - 1s 3ms/step - loss: 28958894080.0000 - val_loss: 28152686592.0000\n",
      "Epoch 228/500\n",
      "237/237 [==============================] - 1s 3ms/step - loss: 28888594432.0000 - val_loss: 28131686400.0000\n",
      "Epoch 229/500\n",
      "237/237 [==============================] - 1s 3ms/step - loss: 28829671424.0000 - val_loss: 28480841728.0000\n",
      "Epoch 230/500\n",
      "237/237 [==============================] - 1s 3ms/step - loss: 28878260224.0000 - val_loss: 28225734656.0000\n",
      "Epoch 231/500\n",
      "237/237 [==============================] - 1s 3ms/step - loss: 28834961408.0000 - val_loss: 28060082176.0000\n",
      "Epoch 232/500\n",
      "237/237 [==============================] - 1s 3ms/step - loss: 28795056128.0000 - val_loss: 28058257408.0000\n",
      "Epoch 233/500\n",
      "237/237 [==============================] - 1s 3ms/step - loss: 28747220992.0000 - val_loss: 28209647616.0000\n",
      "Epoch 234/500\n",
      "237/237 [==============================] - 1s 3ms/step - loss: 28780955648.0000 - val_loss: 28000000000.0000\n",
      "Epoch 235/500\n",
      "237/237 [==============================] - 1s 3ms/step - loss: 28727982080.0000 - val_loss: 27985317888.0000\n",
      "Epoch 236/500\n",
      "237/237 [==============================] - 1s 3ms/step - loss: 28683640832.0000 - val_loss: 28025282560.0000\n",
      "Epoch 237/500\n",
      "237/237 [==============================] - 1s 3ms/step - loss: 28680835072.0000 - val_loss: 27951343616.0000\n",
      "Epoch 238/500\n",
      "237/237 [==============================] - 1s 3ms/step - loss: 28670674944.0000 - val_loss: 27979567104.0000\n",
      "Epoch 239/500\n",
      "237/237 [==============================] - 1s 3ms/step - loss: 28635369472.0000 - val_loss: 27899527168.0000\n",
      "Epoch 240/500\n",
      "237/237 [==============================] - 1s 3ms/step - loss: 28593317888.0000 - val_loss: 27960240128.0000\n",
      "Epoch 241/500\n",
      "237/237 [==============================] - 1s 3ms/step - loss: 28657702912.0000 - val_loss: 27879819264.0000\n",
      "Epoch 242/500\n",
      "237/237 [==============================] - 1s 3ms/step - loss: 28596742144.0000 - val_loss: 27896612864.0000\n",
      "Epoch 243/500\n",
      "237/237 [==============================] - 1s 3ms/step - loss: 28529874944.0000 - val_loss: 27989776384.0000\n",
      "Epoch 244/500\n",
      "237/237 [==============================] - 1s 3ms/step - loss: 28607289344.0000 - val_loss: 27808591872.0000\n",
      "Epoch 245/500\n",
      "237/237 [==============================] - 1s 3ms/step - loss: 28543772672.0000 - val_loss: 27853117440.0000\n",
      "Epoch 246/500\n",
      "237/237 [==============================] - 1s 3ms/step - loss: 28535324672.0000 - val_loss: 27836792832.0000\n",
      "Epoch 247/500\n",
      "237/237 [==============================] - 1s 3ms/step - loss: 28474277888.0000 - val_loss: 27720421376.0000\n",
      "Epoch 248/500\n",
      "237/237 [==============================] - 1s 3ms/step - loss: 28448884736.0000 - val_loss: 27714199552.0000\n",
      "Epoch 249/500\n",
      "237/237 [==============================] - 1s 3ms/step - loss: 28437571584.0000 - val_loss: 27711422464.0000\n",
      "Epoch 250/500\n",
      "237/237 [==============================] - 1s 3ms/step - loss: 28430645248.0000 - val_loss: 27651706880.0000\n",
      "Epoch 251/500\n",
      "237/237 [==============================] - 1s 3ms/step - loss: 28420001792.0000 - val_loss: 27656689664.0000\n",
      "Epoch 252/500\n",
      "237/237 [==============================] - 1s 3ms/step - loss: 28396695552.0000 - val_loss: 27720519680.0000\n",
      "Epoch 253/500\n",
      "237/237 [==============================] - 1s 3ms/step - loss: 28355844096.0000 - val_loss: 27596834816.0000\n",
      "Epoch 254/500\n",
      "237/237 [==============================] - 1s 3ms/step - loss: 28359845888.0000 - val_loss: 27556786176.0000\n",
      "Epoch 255/500\n",
      "237/237 [==============================] - 1s 4ms/step - loss: 28333103104.0000 - val_loss: 27706415104.0000\n",
      "Epoch 256/500\n",
      "237/237 [==============================] - 1s 3ms/step - loss: 28295944192.0000 - val_loss: 27554172928.0000\n",
      "Epoch 257/500\n",
      "237/237 [==============================] - 1s 3ms/step - loss: 28277006336.0000 - val_loss: 27623069696.0000\n",
      "Epoch 258/500\n",
      "237/237 [==============================] - 1s 3ms/step - loss: 28241342464.0000 - val_loss: 27713050624.0000\n",
      "Epoch 259/500\n",
      "237/237 [==============================] - 1s 3ms/step - loss: 28266268672.0000 - val_loss: 27488888832.0000\n",
      "Epoch 260/500\n",
      "237/237 [==============================] - 1s 3ms/step - loss: 28192372736.0000 - val_loss: 27448082432.0000\n",
      "Epoch 261/500\n",
      "237/237 [==============================] - 1s 4ms/step - loss: 28183820288.0000 - val_loss: 27553017856.0000\n",
      "Epoch 262/500\n",
      "237/237 [==============================] - 1s 3ms/step - loss: 28172990464.0000 - val_loss: 27448584192.0000\n",
      "Epoch 263/500\n",
      "237/237 [==============================] - 1s 4ms/step - loss: 28143099904.0000 - val_loss: 27429373952.0000\n",
      "Epoch 264/500\n",
      "237/237 [==============================] - 1s 4ms/step - loss: 28085422080.0000 - val_loss: 27426811904.0000\n",
      "Epoch 265/500\n",
      "237/237 [==============================] - 1s 4ms/step - loss: 28124549120.0000 - val_loss: 27444056064.0000\n",
      "Epoch 266/500\n",
      "237/237 [==============================] - 1s 3ms/step - loss: 28056559616.0000 - val_loss: 27398588416.0000\n",
      "Epoch 267/500\n"
     ]
    },
    {
     "name": "stdout",
     "output_type": "stream",
     "text": [
      "237/237 [==============================] - 1s 3ms/step - loss: 28036470784.0000 - val_loss: 27450404864.0000\n",
      "Epoch 268/500\n",
      "237/237 [==============================] - 1s 3ms/step - loss: 28064739328.0000 - val_loss: 27335995392.0000\n",
      "Epoch 269/500\n",
      "237/237 [==============================] - 1s 3ms/step - loss: 28035991552.0000 - val_loss: 27308621824.0000\n",
      "Epoch 270/500\n",
      "237/237 [==============================] - 1s 3ms/step - loss: 28056608768.0000 - val_loss: 27280674816.0000\n",
      "Epoch 271/500\n",
      "237/237 [==============================] - 1s 3ms/step - loss: 27985567744.0000 - val_loss: 27263326208.0000\n",
      "Epoch 272/500\n",
      "237/237 [==============================] - 1s 4ms/step - loss: 27942868992.0000 - val_loss: 27254970368.0000\n",
      "Epoch 273/500\n",
      "237/237 [==============================] - 1s 3ms/step - loss: 27967410176.0000 - val_loss: 27271852032.0000\n",
      "Epoch 274/500\n",
      "237/237 [==============================] - 1s 4ms/step - loss: 27927226368.0000 - val_loss: 27348697088.0000\n",
      "Epoch 275/500\n",
      "237/237 [==============================] - 1s 4ms/step - loss: 27921195008.0000 - val_loss: 27171817472.0000\n",
      "Epoch 276/500\n",
      "237/237 [==============================] - 1s 4ms/step - loss: 27902488576.0000 - val_loss: 27168202752.0000\n",
      "Epoch 277/500\n",
      "237/237 [==============================] - 1s 4ms/step - loss: 27848261632.0000 - val_loss: 27434381312.0000\n",
      "Epoch 278/500\n",
      "237/237 [==============================] - 1s 4ms/step - loss: 27875663872.0000 - val_loss: 27161202688.0000\n",
      "Epoch 279/500\n",
      "237/237 [==============================] - 1s 3ms/step - loss: 27824539648.0000 - val_loss: 27136667648.0000\n",
      "Epoch 280/500\n",
      "237/237 [==============================] - 1s 3ms/step - loss: 27770916864.0000 - val_loss: 27251355648.0000\n",
      "Epoch 281/500\n",
      "237/237 [==============================] - 1s 3ms/step - loss: 27788705792.0000 - val_loss: 27129980928.0000\n",
      "Epoch 282/500\n",
      "237/237 [==============================] - 1s 3ms/step - loss: 27791851520.0000 - val_loss: 27125483520.0000\n",
      "Epoch 283/500\n",
      "237/237 [==============================] - 1s 3ms/step - loss: 27773667328.0000 - val_loss: 27051841536.0000\n",
      "Epoch 284/500\n",
      "237/237 [==============================] - 1s 3ms/step - loss: 27701542912.0000 - val_loss: 27154550784.0000\n",
      "Epoch 285/500\n",
      "237/237 [==============================] - 1s 3ms/step - loss: 27722311680.0000 - val_loss: 27035738112.0000\n",
      "Epoch 286/500\n",
      "237/237 [==============================] - 1s 3ms/step - loss: 27689005056.0000 - val_loss: 27047936000.0000\n",
      "Epoch 287/500\n",
      "237/237 [==============================] - 1s 3ms/step - loss: 27703834624.0000 - val_loss: 27017181184.0000\n",
      "Epoch 288/500\n",
      "237/237 [==============================] - 1s 4ms/step - loss: 27649798144.0000 - val_loss: 26993856512.0000\n",
      "Epoch 289/500\n",
      "237/237 [==============================] - 1s 3ms/step - loss: 27673079808.0000 - val_loss: 27202367488.0000\n",
      "Epoch 290/500\n",
      "237/237 [==============================] - 1s 3ms/step - loss: 27690315776.0000 - val_loss: 27152672768.0000\n",
      "Epoch 291/500\n",
      "237/237 [==============================] - 1s 3ms/step - loss: 27634530304.0000 - val_loss: 26990813184.0000\n",
      "Epoch 292/500\n",
      "237/237 [==============================] - 1s 3ms/step - loss: 27609659392.0000 - val_loss: 26946787328.0000\n",
      "Epoch 293/500\n",
      "237/237 [==============================] - 1s 3ms/step - loss: 27610195968.0000 - val_loss: 26928623616.0000\n",
      "Epoch 294/500\n",
      "237/237 [==============================] - 1s 4ms/step - loss: 27549313024.0000 - val_loss: 26950277120.0000\n",
      "Epoch 295/500\n",
      "237/237 [==============================] - 1s 3ms/step - loss: 27583174656.0000 - val_loss: 26935652352.0000\n",
      "Epoch 296/500\n",
      "237/237 [==============================] - 1s 4ms/step - loss: 27607748608.0000 - val_loss: 26919010304.0000\n",
      "Epoch 297/500\n",
      "237/237 [==============================] - 1s 3ms/step - loss: 27533760512.0000 - val_loss: 26909544448.0000\n",
      "Epoch 298/500\n",
      "237/237 [==============================] - 1s 3ms/step - loss: 27506294784.0000 - val_loss: 26887487488.0000\n",
      "Epoch 299/500\n",
      "237/237 [==============================] - 1s 3ms/step - loss: 27507818496.0000 - val_loss: 26937925632.0000\n",
      "Epoch 300/500\n",
      "237/237 [==============================] - 1s 3ms/step - loss: 27467341824.0000 - val_loss: 26894608384.0000\n",
      "Epoch 301/500\n",
      "237/237 [==============================] - 1s 3ms/step - loss: 27475888128.0000 - val_loss: 26865620992.0000\n",
      "Epoch 302/500\n",
      "237/237 [==============================] - 1s 3ms/step - loss: 27478419456.0000 - val_loss: 26941843456.0000\n",
      "Epoch 303/500\n",
      "237/237 [==============================] - 1s 3ms/step - loss: 27443042304.0000 - val_loss: 26856982528.0000\n",
      "Epoch 304/500\n",
      "237/237 [==============================] - 1s 3ms/step - loss: 27488974848.0000 - val_loss: 26789281792.0000\n",
      "Epoch 305/500\n",
      "237/237 [==============================] - 1s 3ms/step - loss: 27430481920.0000 - val_loss: 26778906624.0000\n",
      "Epoch 306/500\n",
      "237/237 [==============================] - 1s 3ms/step - loss: 27411847168.0000 - val_loss: 26830798848.0000\n",
      "Epoch 307/500\n",
      "237/237 [==============================] - 1s 3ms/step - loss: 27404746752.0000 - val_loss: 26804588544.0000\n",
      "Epoch 308/500\n",
      "237/237 [==============================] - 1s 3ms/step - loss: 27350595584.0000 - val_loss: 26769930240.0000\n",
      "Epoch 309/500\n",
      "237/237 [==============================] - 1s 3ms/step - loss: 27320287232.0000 - val_loss: 26863607808.0000\n",
      "Epoch 310/500\n",
      "237/237 [==============================] - 1s 3ms/step - loss: 27426467840.0000 - val_loss: 26747369472.0000\n",
      "Epoch 311/500\n",
      "237/237 [==============================] - 1s 3ms/step - loss: 27363096576.0000 - val_loss: 26804305920.0000\n",
      "Epoch 312/500\n",
      "237/237 [==============================] - 1s 3ms/step - loss: 27383443456.0000 - val_loss: 26914709504.0000\n",
      "Epoch 313/500\n",
      "237/237 [==============================] - 1s 3ms/step - loss: 27333445632.0000 - val_loss: 26738630656.0000\n",
      "Epoch 314/500\n",
      "237/237 [==============================] - 1s 3ms/step - loss: 27264079872.0000 - val_loss: 26705528832.0000\n",
      "Epoch 315/500\n",
      "237/237 [==============================] - 1s 3ms/step - loss: 27285108736.0000 - val_loss: 26700087296.0000\n",
      "Epoch 316/500\n",
      "237/237 [==============================] - 1s 3ms/step - loss: 27277424640.0000 - val_loss: 26716792832.0000\n",
      "Epoch 317/500\n",
      "237/237 [==============================] - 1s 3ms/step - loss: 27258963968.0000 - val_loss: 26705379328.0000\n",
      "Epoch 318/500\n",
      "237/237 [==============================] - 1s 3ms/step - loss: 27246544896.0000 - val_loss: 26682572800.0000\n",
      "Epoch 319/500\n",
      "237/237 [==============================] - 1s 3ms/step - loss: 27194267648.0000 - val_loss: 26663956480.0000\n",
      "Epoch 320/500\n",
      "237/237 [==============================] - 1s 3ms/step - loss: 27201196032.0000 - val_loss: 26660919296.0000\n",
      "Epoch 321/500\n",
      "237/237 [==============================] - 1s 3ms/step - loss: 27180976128.0000 - val_loss: 26640748544.0000\n",
      "Epoch 322/500\n",
      "237/237 [==============================] - 1s 3ms/step - loss: 27186130944.0000 - val_loss: 26654889984.0000\n",
      "Epoch 323/500\n",
      "237/237 [==============================] - 1s 3ms/step - loss: 27161489408.0000 - val_loss: 26745724928.0000\n",
      "Epoch 324/500\n",
      "237/237 [==============================] - 1s 3ms/step - loss: 27187306496.0000 - val_loss: 26605350912.0000\n",
      "Epoch 325/500\n",
      "237/237 [==============================] - 1s 3ms/step - loss: 27135727616.0000 - val_loss: 26678177792.0000\n",
      "Epoch 326/500\n",
      "237/237 [==============================] - 1s 3ms/step - loss: 27147202560.0000 - val_loss: 26571595776.0000\n",
      "Epoch 327/500\n",
      "237/237 [==============================] - 1s 3ms/step - loss: 27096127488.0000 - val_loss: 26620844032.0000\n",
      "Epoch 328/500\n",
      "237/237 [==============================] - 1s 3ms/step - loss: 27120345088.0000 - val_loss: 26545491968.0000\n",
      "Epoch 329/500\n",
      "237/237 [==============================] - 1s 3ms/step - loss: 27099955200.0000 - val_loss: 26557126656.0000\n",
      "Epoch 330/500\n",
      "237/237 [==============================] - 1s 3ms/step - loss: 27108337664.0000 - val_loss: 26527182848.0000\n",
      "Epoch 331/500\n",
      "237/237 [==============================] - 1s 3ms/step - loss: 27062188032.0000 - val_loss: 26575337472.0000\n",
      "Epoch 332/500\n",
      "237/237 [==============================] - 1s 3ms/step - loss: 27042193408.0000 - val_loss: 26530856960.0000\n",
      "Epoch 333/500\n"
     ]
    },
    {
     "name": "stdout",
     "output_type": "stream",
     "text": [
      "237/237 [==============================] - 1s 3ms/step - loss: 27047426048.0000 - val_loss: 26648139776.0000\n",
      "Epoch 334/500\n",
      "237/237 [==============================] - 1s 3ms/step - loss: 27099271168.0000 - val_loss: 26508029952.0000\n",
      "Epoch 335/500\n",
      "237/237 [==============================] - 1s 3ms/step - loss: 27047358464.0000 - val_loss: 26485295104.0000\n",
      "Epoch 336/500\n",
      "237/237 [==============================] - 1s 3ms/step - loss: 27020161024.0000 - val_loss: 26463932416.0000\n",
      "Epoch 337/500\n",
      "237/237 [==============================] - 1s 3ms/step - loss: 26960451584.0000 - val_loss: 26467350528.0000\n",
      "Epoch 338/500\n",
      "237/237 [==============================] - 1s 3ms/step - loss: 27030614016.0000 - val_loss: 26449252352.0000\n",
      "Epoch 339/500\n",
      "237/237 [==============================] - 1s 3ms/step - loss: 26972114944.0000 - val_loss: 26455973888.0000\n",
      "Epoch 340/500\n",
      "237/237 [==============================] - 1s 3ms/step - loss: 26946947072.0000 - val_loss: 26692923392.0000\n",
      "Epoch 341/500\n",
      "237/237 [==============================] - 1s 3ms/step - loss: 26935410688.0000 - val_loss: 26461939712.0000\n",
      "Epoch 342/500\n",
      "237/237 [==============================] - 1s 3ms/step - loss: 26967246848.0000 - val_loss: 26431700992.0000\n",
      "Epoch 343/500\n",
      "237/237 [==============================] - 1s 3ms/step - loss: 26913910784.0000 - val_loss: 26489069568.0000\n",
      "Epoch 344/500\n",
      "237/237 [==============================] - 1s 3ms/step - loss: 26926153728.0000 - val_loss: 26402258944.0000\n",
      "Epoch 345/500\n",
      "237/237 [==============================] - 1s 3ms/step - loss: 26925185024.0000 - val_loss: 26422740992.0000\n",
      "Epoch 346/500\n",
      "237/237 [==============================] - 1s 3ms/step - loss: 26904129536.0000 - val_loss: 26402203648.0000\n",
      "Epoch 347/500\n",
      "237/237 [==============================] - 1s 3ms/step - loss: 26874986496.0000 - val_loss: 26548977664.0000\n",
      "Epoch 348/500\n",
      "237/237 [==============================] - 1s 3ms/step - loss: 26890180608.0000 - val_loss: 26410844160.0000\n",
      "Epoch 349/500\n",
      "237/237 [==============================] - 1s 3ms/step - loss: 26883074048.0000 - val_loss: 26370816000.0000\n",
      "Epoch 350/500\n",
      "237/237 [==============================] - 1s 3ms/step - loss: 26832820224.0000 - val_loss: 26498390016.0000\n",
      "Epoch 351/500\n",
      "237/237 [==============================] - 1s 3ms/step - loss: 26830540800.0000 - val_loss: 26381957120.0000\n",
      "Epoch 352/500\n",
      "237/237 [==============================] - 1s 3ms/step - loss: 26836799488.0000 - val_loss: 26322665472.0000\n",
      "Epoch 353/500\n",
      "237/237 [==============================] - 1s 3ms/step - loss: 26784301056.0000 - val_loss: 26380388352.0000\n",
      "Epoch 354/500\n",
      "237/237 [==============================] - 1s 3ms/step - loss: 26783291392.0000 - val_loss: 26382573568.0000\n",
      "Epoch 355/500\n",
      "237/237 [==============================] - 1s 4ms/step - loss: 26819551232.0000 - val_loss: 26312130560.0000\n",
      "Epoch 356/500\n",
      "237/237 [==============================] - 1s 4ms/step - loss: 26811172864.0000 - val_loss: 26296090624.0000\n",
      "Epoch 357/500\n",
      "237/237 [==============================] - 1s 3ms/step - loss: 26778900480.0000 - val_loss: 26288996352.0000\n",
      "Epoch 358/500\n",
      "237/237 [==============================] - 1s 3ms/step - loss: 26803200000.0000 - val_loss: 26286690304.0000\n",
      "Epoch 359/500\n",
      "237/237 [==============================] - 1s 3ms/step - loss: 26818039808.0000 - val_loss: 26273185792.0000\n",
      "Epoch 360/500\n",
      "237/237 [==============================] - 1s 3ms/step - loss: 26709151744.0000 - val_loss: 26271700992.0000\n",
      "Epoch 361/500\n",
      "237/237 [==============================] - 1s 3ms/step - loss: 26733303808.0000 - val_loss: 26278696960.0000\n",
      "Epoch 362/500\n",
      "237/237 [==============================] - 1s 3ms/step - loss: 26704209920.0000 - val_loss: 26263175168.0000\n",
      "Epoch 363/500\n",
      "237/237 [==============================] - 1s 3ms/step - loss: 26668933120.0000 - val_loss: 26264754176.0000\n",
      "Epoch 364/500\n",
      "237/237 [==============================] - 1s 3ms/step - loss: 26664200192.0000 - val_loss: 26245750784.0000\n",
      "Epoch 365/500\n",
      "237/237 [==============================] - 1s 3ms/step - loss: 26664587264.0000 - val_loss: 26265632768.0000\n",
      "Epoch 366/500\n",
      "237/237 [==============================] - 1s 3ms/step - loss: 26720618496.0000 - val_loss: 26283913216.0000\n",
      "Epoch 367/500\n",
      "237/237 [==============================] - 1s 4ms/step - loss: 26660012032.0000 - val_loss: 26230988800.0000\n",
      "Epoch 368/500\n",
      "237/237 [==============================] - 1s 4ms/step - loss: 26717472768.0000 - val_loss: 26209630208.0000\n",
      "Epoch 369/500\n",
      "237/237 [==============================] - 1s 4ms/step - loss: 26599376896.0000 - val_loss: 26335227904.0000\n",
      "Epoch 370/500\n",
      "237/237 [==============================] - 1s 4ms/step - loss: 26674161664.0000 - val_loss: 26230528000.0000\n",
      "Epoch 371/500\n",
      "237/237 [==============================] - 1s 3ms/step - loss: 26600581120.0000 - val_loss: 26191783936.0000\n",
      "Epoch 372/500\n",
      "237/237 [==============================] - 1s 4ms/step - loss: 26600888320.0000 - val_loss: 26186209280.0000\n",
      "Epoch 373/500\n",
      "237/237 [==============================] - 1s 4ms/step - loss: 26566246400.0000 - val_loss: 26183610368.0000\n",
      "Epoch 374/500\n",
      "237/237 [==============================] - 1s 3ms/step - loss: 26580213760.0000 - val_loss: 26290429952.0000\n",
      "Epoch 375/500\n",
      "237/237 [==============================] - 1s 3ms/step - loss: 26553346048.0000 - val_loss: 26232283136.0000\n",
      "Epoch 376/500\n",
      "237/237 [==============================] - 1s 3ms/step - loss: 26573594624.0000 - val_loss: 26191269888.0000\n",
      "Epoch 377/500\n",
      "237/237 [==============================] - 1s 4ms/step - loss: 26592980992.0000 - val_loss: 26163623936.0000\n",
      "Epoch 378/500\n",
      "237/237 [==============================] - 1s 3ms/step - loss: 26552649728.0000 - val_loss: 26269251584.0000\n",
      "Epoch 379/500\n",
      "237/237 [==============================] - 1s 3ms/step - loss: 26495934464.0000 - val_loss: 26146734080.0000\n",
      "Epoch 380/500\n",
      "237/237 [==============================] - 1s 3ms/step - loss: 26559752192.0000 - val_loss: 26150152192.0000\n",
      "Epoch 381/500\n",
      "237/237 [==============================] - 1s 3ms/step - loss: 26466854912.0000 - val_loss: 26160861184.0000\n",
      "Epoch 382/500\n",
      "237/237 [==============================] - 1s 3ms/step - loss: 26528092160.0000 - val_loss: 26137749504.0000\n",
      "Epoch 383/500\n",
      "237/237 [==============================] - 1s 4ms/step - loss: 26485250048.0000 - val_loss: 26162677760.0000\n",
      "Epoch 384/500\n",
      "237/237 [==============================] - 1s 4ms/step - loss: 26490716160.0000 - val_loss: 26220378112.0000\n",
      "Epoch 385/500\n",
      "237/237 [==============================] - 1s 4ms/step - loss: 26506149888.0000 - val_loss: 26114543616.0000\n",
      "Epoch 386/500\n",
      "237/237 [==============================] - 1s 4ms/step - loss: 26445127680.0000 - val_loss: 26186356736.0000\n",
      "Epoch 387/500\n",
      "237/237 [==============================] - 1s 3ms/step - loss: 26444052480.0000 - val_loss: 26281263104.0000\n",
      "Epoch 388/500\n",
      "237/237 [==============================] - 1s 3ms/step - loss: 26432937984.0000 - val_loss: 26090328064.0000\n",
      "Epoch 389/500\n",
      "237/237 [==============================] - 1s 3ms/step - loss: 26455422976.0000 - val_loss: 26092568576.0000\n",
      "Epoch 390/500\n",
      "237/237 [==============================] - 1s 3ms/step - loss: 26418833408.0000 - val_loss: 26080743424.0000\n",
      "Epoch 391/500\n",
      "237/237 [==============================] - 1s 4ms/step - loss: 26359017472.0000 - val_loss: 26121037824.0000\n",
      "Epoch 392/500\n",
      "237/237 [==============================] - 1s 4ms/step - loss: 26406064128.0000 - val_loss: 26093068288.0000\n",
      "Epoch 393/500\n",
      "237/237 [==============================] - 1s 3ms/step - loss: 26387468288.0000 - val_loss: 26088302592.0000\n",
      "Epoch 394/500\n",
      "237/237 [==============================] - 1s 3ms/step - loss: 26350012416.0000 - val_loss: 26084079616.0000\n",
      "Epoch 395/500\n",
      "237/237 [==============================] - 1s 3ms/step - loss: 26317438976.0000 - val_loss: 26159529984.0000\n",
      "Epoch 396/500\n",
      "237/237 [==============================] - 1s 3ms/step - loss: 26415646720.0000 - val_loss: 26279522304.0000\n",
      "Epoch 397/500\n",
      "237/237 [==============================] - 1s 3ms/step - loss: 26397407232.0000 - val_loss: 26062147584.0000\n",
      "Epoch 398/500\n",
      "237/237 [==============================] - 1s 3ms/step - loss: 26304425984.0000 - val_loss: 26170621952.0000\n",
      "Epoch 399/500\n"
     ]
    },
    {
     "name": "stdout",
     "output_type": "stream",
     "text": [
      "237/237 [==============================] - 1s 3ms/step - loss: 26344636416.0000 - val_loss: 26059522048.0000\n",
      "Epoch 400/500\n",
      "237/237 [==============================] - 1s 3ms/step - loss: 26348226560.0000 - val_loss: 26062893056.0000\n",
      "Epoch 401/500\n",
      "237/237 [==============================] - 1s 3ms/step - loss: 26310952960.0000 - val_loss: 26050887680.0000\n",
      "Epoch 402/500\n",
      "237/237 [==============================] - 1s 3ms/step - loss: 26309582848.0000 - val_loss: 26081296384.0000\n",
      "Epoch 403/500\n",
      "237/237 [==============================] - 1s 3ms/step - loss: 26263900160.0000 - val_loss: 26124259328.0000\n",
      "Epoch 404/500\n",
      "237/237 [==============================] - 1s 3ms/step - loss: 26280777728.0000 - val_loss: 26205720576.0000\n",
      "Epoch 405/500\n",
      "237/237 [==============================] - 1s 3ms/step - loss: 26319861760.0000 - val_loss: 26067372032.0000\n",
      "Epoch 406/500\n",
      "237/237 [==============================] - 1s 3ms/step - loss: 26235207680.0000 - val_loss: 26020974592.0000\n",
      "Epoch 407/500\n",
      "237/237 [==============================] - 1s 3ms/step - loss: 26243610624.0000 - val_loss: 26036662272.0000\n",
      "Epoch 408/500\n",
      "237/237 [==============================] - 1s 3ms/step - loss: 26245093376.0000 - val_loss: 26046334976.0000\n",
      "Epoch 409/500\n",
      "237/237 [==============================] - 1s 3ms/step - loss: 26228207616.0000 - val_loss: 26041141248.0000\n",
      "Epoch 410/500\n",
      "237/237 [==============================] - 1s 3ms/step - loss: 26239864832.0000 - val_loss: 26035453952.0000\n",
      "Epoch 411/500\n",
      "237/237 [==============================] - 1s 3ms/step - loss: 26227834880.0000 - val_loss: 26051717120.0000\n",
      "Epoch 412/500\n",
      "237/237 [==============================] - 1s 4ms/step - loss: 26231128064.0000 - val_loss: 26062608384.0000\n",
      "Epoch 413/500\n",
      "237/237 [==============================] - 1s 3ms/step - loss: 26231982080.0000 - val_loss: 26164340736.0000\n",
      "Epoch 414/500\n",
      "237/237 [==============================] - 1s 4ms/step - loss: 26145511424.0000 - val_loss: 26020970496.0000\n",
      "Epoch 415/500\n",
      "237/237 [==============================] - 1s 4ms/step - loss: 26134908928.0000 - val_loss: 25991970816.0000\n",
      "Epoch 416/500\n",
      "237/237 [==============================] - 1s 4ms/step - loss: 26208946176.0000 - val_loss: 25953773568.0000\n",
      "Epoch 417/500\n",
      "237/237 [==============================] - 1s 4ms/step - loss: 26152652800.0000 - val_loss: 26037723136.0000\n",
      "Epoch 418/500\n",
      "237/237 [==============================] - 1s 4ms/step - loss: 26146035712.0000 - val_loss: 25955614720.0000\n",
      "Epoch 419/500\n",
      "237/237 [==============================] - 1s 4ms/step - loss: 26102935552.0000 - val_loss: 26205743104.0000\n",
      "Epoch 420/500\n",
      "237/237 [==============================] - 1s 4ms/step - loss: 26116890624.0000 - val_loss: 25956823040.0000\n",
      "Epoch 421/500\n",
      "237/237 [==============================] - 1s 4ms/step - loss: 26099259392.0000 - val_loss: 25972994048.0000\n",
      "Epoch 422/500\n",
      "237/237 [==============================] - 1s 4ms/step - loss: 26160830464.0000 - val_loss: 25972670464.0000\n",
      "Epoch 423/500\n",
      "237/237 [==============================] - 1s 4ms/step - loss: 26141702144.0000 - val_loss: 25954189312.0000\n",
      "Epoch 424/500\n",
      "237/237 [==============================] - 1s 4ms/step - loss: 26131214336.0000 - val_loss: 26037188608.0000\n",
      "Epoch 425/500\n",
      "237/237 [==============================] - 1s 4ms/step - loss: 26165157888.0000 - val_loss: 26023059456.0000\n",
      "Epoch 426/500\n",
      "237/237 [==============================] - 1s 4ms/step - loss: 26172344320.0000 - val_loss: 26098792448.0000\n",
      "Epoch 427/500\n",
      "237/237 [==============================] - 1s 4ms/step - loss: 26140020736.0000 - val_loss: 25948815360.0000\n",
      "Epoch 428/500\n",
      "237/237 [==============================] - 1s 4ms/step - loss: 26039513088.0000 - val_loss: 25935994880.0000\n",
      "Epoch 429/500\n",
      "237/237 [==============================] - 1s 4ms/step - loss: 26052079616.0000 - val_loss: 25943015424.0000\n",
      "Epoch 430/500\n",
      "237/237 [==============================] - 1s 4ms/step - loss: 26053548032.0000 - val_loss: 25943011328.0000\n",
      "Epoch 431/500\n",
      "237/237 [==============================] - 1s 4ms/step - loss: 26053679104.0000 - val_loss: 26007961600.0000\n",
      "Epoch 432/500\n",
      "237/237 [==============================] - 1s 4ms/step - loss: 25982490624.0000 - val_loss: 26042220544.0000\n",
      "Epoch 433/500\n",
      "237/237 [==============================] - 1s 4ms/step - loss: 26061236224.0000 - val_loss: 25939578880.0000\n",
      "Epoch 434/500\n",
      "237/237 [==============================] - 1s 4ms/step - loss: 26017601536.0000 - val_loss: 25955026944.0000\n",
      "Epoch 435/500\n",
      "237/237 [==============================] - 1s 4ms/step - loss: 26018086912.0000 - val_loss: 26056259584.0000\n",
      "Epoch 436/500\n",
      "237/237 [==============================] - 1s 4ms/step - loss: 25973536768.0000 - val_loss: 26024701952.0000\n",
      "Epoch 437/500\n",
      "237/237 [==============================] - 1s 4ms/step - loss: 25933195264.0000 - val_loss: 26158041088.0000\n",
      "Epoch 438/500\n",
      "237/237 [==============================] - 1s 4ms/step - loss: 25939580928.0000 - val_loss: 26169604096.0000\n",
      "Epoch 439/500\n",
      "237/237 [==============================] - 1s 4ms/step - loss: 25965463552.0000 - val_loss: 26126757888.0000\n",
      "Epoch 440/500\n",
      "237/237 [==============================] - 1s 4ms/step - loss: 25936832512.0000 - val_loss: 25939103744.0000\n",
      "Epoch 441/500\n",
      "237/237 [==============================] - 1s 4ms/step - loss: 25929648128.0000 - val_loss: 25970356224.0000\n",
      "Epoch 442/500\n",
      "237/237 [==============================] - 1s 4ms/step - loss: 25903783936.0000 - val_loss: 25924593664.0000\n",
      "Epoch 443/500\n",
      "237/237 [==============================] - 1s 4ms/step - loss: 25964150784.0000 - val_loss: 26078558208.0000\n",
      "Epoch 444/500\n",
      "237/237 [==============================] - 1s 4ms/step - loss: 25885997056.0000 - val_loss: 25935495168.0000\n",
      "Epoch 445/500\n",
      "237/237 [==============================] - 1s 4ms/step - loss: 25927944192.0000 - val_loss: 26050433024.0000\n",
      "Epoch 446/500\n",
      "237/237 [==============================] - 1s 4ms/step - loss: 25900189696.0000 - val_loss: 25981808640.0000\n",
      "Epoch 447/500\n",
      "237/237 [==============================] - 1s 4ms/step - loss: 25908234240.0000 - val_loss: 25954611200.0000\n",
      "Epoch 448/500\n",
      "237/237 [==============================] - 1s 4ms/step - loss: 25849315328.0000 - val_loss: 26032818176.0000\n",
      "Epoch 449/500\n",
      "237/237 [==============================] - 1s 4ms/step - loss: 25873305600.0000 - val_loss: 26016337920.0000\n",
      "Epoch 450/500\n",
      "237/237 [==============================] - 1s 5ms/step - loss: 25879601152.0000 - val_loss: 25934766080.0000\n",
      "Epoch 451/500\n",
      "237/237 [==============================] - 1s 4ms/step - loss: 25828257792.0000 - val_loss: 25950351360.0000\n",
      "Epoch 452/500\n",
      "237/237 [==============================] - 1s 4ms/step - loss: 25847779328.0000 - val_loss: 25963909120.0000\n",
      "Epoch 453/500\n",
      "237/237 [==============================] - 1s 5ms/step - loss: 25883357184.0000 - val_loss: 25981122560.0000\n",
      "Epoch 454/500\n",
      "237/237 [==============================] - 1s 5ms/step - loss: 25847814144.0000 - val_loss: 26129778688.0000\n",
      "Epoch 455/500\n",
      "237/237 [==============================] - 1s 4ms/step - loss: 25864298496.0000 - val_loss: 25921042432.0000\n",
      "Epoch 456/500\n",
      "237/237 [==============================] - 1s 4ms/step - loss: 25765670912.0000 - val_loss: 26172528640.0000\n",
      "Epoch 457/500\n",
      "237/237 [==============================] - 1s 4ms/step - loss: 25831604224.0000 - val_loss: 26282696704.0000\n",
      "Epoch 458/500\n",
      "237/237 [==============================] - 1s 4ms/step - loss: 25858707456.0000 - val_loss: 25928843264.0000\n",
      "Epoch 459/500\n",
      "237/237 [==============================] - 1s 4ms/step - loss: 25796487168.0000 - val_loss: 26025658368.0000\n",
      "Epoch 460/500\n",
      "237/237 [==============================] - 1s 4ms/step - loss: 25872830464.0000 - val_loss: 25964728320.0000\n",
      "Epoch 461/500\n",
      "237/237 [==============================] - 1s 3ms/step - loss: 25802217472.0000 - val_loss: 25971003392.0000\n",
      "Epoch 462/500\n",
      "237/237 [==============================] - 1s 4ms/step - loss: 25782964224.0000 - val_loss: 25993555968.0000\n",
      "Epoch 463/500\n",
      "237/237 [==============================] - 1s 3ms/step - loss: 25797582848.0000 - val_loss: 26000893952.0000\n",
      "Epoch 464/500\n",
      "237/237 [==============================] - 1s 3ms/step - loss: 25782984704.0000 - val_loss: 26002708480.0000\n",
      "Epoch 465/500\n"
     ]
    },
    {
     "name": "stdout",
     "output_type": "stream",
     "text": [
      "237/237 [==============================] - 1s 3ms/step - loss: 25778538496.0000 - val_loss: 26029017088.0000\n",
      "Epoch 466/500\n",
      "237/237 [==============================] - 1s 4ms/step - loss: 25783631872.0000 - val_loss: 25963796480.0000\n",
      "Epoch 467/500\n",
      "237/237 [==============================] - 1s 4ms/step - loss: 25769562112.0000 - val_loss: 25992976384.0000\n",
      "Epoch 468/500\n",
      "237/237 [==============================] - 1s 4ms/step - loss: 25764524032.0000 - val_loss: 26085761024.0000\n",
      "Epoch 469/500\n",
      "237/237 [==============================] - 1s 3ms/step - loss: 25783300096.0000 - val_loss: 26062030848.0000\n",
      "Epoch 470/500\n",
      "237/237 [==============================] - 1s 3ms/step - loss: 25728792576.0000 - val_loss: 26007322624.0000\n",
      "Epoch 471/500\n",
      "237/237 [==============================] - 1s 3ms/step - loss: 25822285824.0000 - val_loss: 25995329536.0000\n",
      "Epoch 472/500\n",
      "237/237 [==============================] - 1s 4ms/step - loss: 25747605504.0000 - val_loss: 25998157824.0000\n",
      "Epoch 473/500\n",
      "237/237 [==============================] - 1s 4ms/step - loss: 25721131008.0000 - val_loss: 26072295424.0000\n",
      "Epoch 474/500\n",
      "237/237 [==============================] - 1s 4ms/step - loss: 25737801728.0000 - val_loss: 25992474624.0000\n",
      "Epoch 475/500\n",
      "237/237 [==============================] - 1s 4ms/step - loss: 25700030464.0000 - val_loss: 26072844288.0000\n",
      "Epoch 476/500\n",
      "237/237 [==============================] - 1s 4ms/step - loss: 25695856640.0000 - val_loss: 25994936320.0000\n",
      "Epoch 477/500\n",
      "237/237 [==============================] - 1s 4ms/step - loss: 25683027968.0000 - val_loss: 25997135872.0000\n",
      "Epoch 478/500\n",
      "237/237 [==============================] - 1s 4ms/step - loss: 25695438848.0000 - val_loss: 25972420608.0000\n",
      "Epoch 479/500\n",
      "237/237 [==============================] - 1s 4ms/step - loss: 25733140480.0000 - val_loss: 25980401664.0000\n",
      "Epoch 480/500\n",
      "237/237 [==============================] - 1s 4ms/step - loss: 25692436480.0000 - val_loss: 25990119424.0000\n",
      "Epoch 481/500\n",
      "237/237 [==============================] - 1s 3ms/step - loss: 25650923520.0000 - val_loss: 26015784960.0000\n",
      "Epoch 482/500\n",
      "237/237 [==============================] - 1s 3ms/step - loss: 25671559168.0000 - val_loss: 26032171008.0000\n",
      "Epoch 483/500\n",
      "237/237 [==============================] - 1s 3ms/step - loss: 25661294592.0000 - val_loss: 26061101056.0000\n",
      "Epoch 484/500\n",
      "237/237 [==============================] - 1s 3ms/step - loss: 25663109120.0000 - val_loss: 26020474880.0000\n",
      "Epoch 485/500\n",
      "237/237 [==============================] - 1s 3ms/step - loss: 25583005696.0000 - val_loss: 26574217216.0000\n",
      "Epoch 486/500\n",
      "237/237 [==============================] - 1s 3ms/step - loss: 25688109056.0000 - val_loss: 26109227008.0000\n",
      "Epoch 487/500\n",
      "237/237 [==============================] - 1s 3ms/step - loss: 25602000896.0000 - val_loss: 26134607872.0000\n",
      "Epoch 488/500\n",
      "237/237 [==============================] - 1s 4ms/step - loss: 25611184128.0000 - val_loss: 26027550720.0000\n",
      "Epoch 489/500\n",
      "237/237 [==============================] - 1s 3ms/step - loss: 25602062336.0000 - val_loss: 26040307712.0000\n",
      "Epoch 490/500\n",
      "237/237 [==============================] - 1s 3ms/step - loss: 25610782720.0000 - val_loss: 26034055168.0000\n",
      "Epoch 491/500\n",
      "237/237 [==============================] - 1s 3ms/step - loss: 25676077056.0000 - val_loss: 26003988480.0000\n",
      "Epoch 492/500\n",
      "237/237 [==============================] - 1s 3ms/step - loss: 25609740288.0000 - val_loss: 26050267136.0000\n",
      "Epoch 493/500\n",
      "237/237 [==============================] - 1s 3ms/step - loss: 25638537216.0000 - val_loss: 26017490944.0000\n",
      "Epoch 494/500\n",
      "237/237 [==============================] - 1s 3ms/step - loss: 25594529792.0000 - val_loss: 26024521728.0000\n",
      "Epoch 495/500\n",
      "237/237 [==============================] - 1s 3ms/step - loss: 25568454656.0000 - val_loss: 26298537984.0000\n",
      "Epoch 496/500\n",
      "237/237 [==============================] - 1s 3ms/step - loss: 25561862144.0000 - val_loss: 26234312704.0000\n",
      "Epoch 497/500\n",
      "237/237 [==============================] - 1s 3ms/step - loss: 25582548992.0000 - val_loss: 26317924352.0000\n",
      "Epoch 498/500\n",
      "237/237 [==============================] - 1s 3ms/step - loss: 25603942400.0000 - val_loss: 26018289664.0000\n",
      "Epoch 499/500\n",
      "237/237 [==============================] - 1s 3ms/step - loss: 25586231296.0000 - val_loss: 26039199744.0000\n",
      "Epoch 500/500\n",
      "237/237 [==============================] - 1s 3ms/step - loss: 25548111872.0000 - val_loss: 26045425664.0000\n"
     ]
    },
    {
     "data": {
      "text/plain": [
       "<tensorflow.python.keras.callbacks.History at 0x1878bb41610>"
      ]
     },
     "execution_count": 37,
     "metadata": {},
     "output_type": "execute_result"
    }
   ],
   "source": [
    "model.fit(x=X_train,y=y_train.values,\n",
    "          validation_data=(X_test,y_test.values),\n",
    "          batch_size=64,epochs=500)"
   ]
  },
  {
   "cell_type": "markdown",
   "metadata": {},
   "source": [
    "I will look at the history of the model's loss and validation loss. Plotting this shows:"
   ]
  },
  {
   "cell_type": "code",
   "execution_count": 39,
   "metadata": {},
   "outputs": [
    {
     "data": {
      "text/plain": [
       "<AxesSubplot:>"
      ]
     },
     "execution_count": 39,
     "metadata": {},
     "output_type": "execute_result"
    },
    {
     "data": {
      "image/png": "[encoded data removed]",
      "text/plain": [
       "<Figure size 432x288 with 1 Axes>"
      ]
     },
     "metadata": {
      "needs_background": "light"
     },
     "output_type": "display_data"
    }
   ],
   "source": [
    "pd.DataFrame(model.history.history).plot()"
   ]
  },
  {
   "cell_type": "markdown",
   "metadata": {},
   "source": [
    "Both the loss and validation loss drop off at the same rate. There are no signs of overfitting as the val_loss line does not spike upwards or move erratically as the model training. Had there been signs of overfitting, it may have been necessary to experiment with adding in early stopping calls or having dropout layers in the model."
   ]
  },
  {
   "cell_type": "markdown",
   "metadata": {},
   "source": [
    "## Predicting using the model"
   ]
  },
  {
   "cell_type": "code",
   "execution_count": 41,
   "metadata": {},
   "outputs": [],
   "source": [
    "predictions = model.predict(X_test)"
   ]
  },
  {
   "cell_type": "markdown",
   "metadata": {},
   "source": [
    "## Evaluation of model on Test Data"
   ]
  },
  {
   "cell_type": "markdown",
   "metadata": {},
   "source": [
    "I will use mean absolute error and explained variance score from Sklearn to evaluate how well my model works."
   ]
  },
  {
   "cell_type": "code",
   "execution_count": 40,
   "metadata": {},
   "outputs": [],
   "source": [
    "from sklearn.metrics import mean_squared_error,mean_absolute_error,explained_variance_score"
   ]
  },
  {
   "cell_type": "code",
   "execution_count": 42,
   "metadata": {},
   "outputs": [
    {
     "data": {
      "text/plain": [
       "99760.28662591628"
      ]
     },
     "execution_count": 42,
     "metadata": {},
     "output_type": "execute_result"
    }
   ],
   "source": [
    "mean_absolute_error(y_test,predictions)"
   ]
  },
  {
   "cell_type": "markdown",
   "metadata": {},
   "source": [
    "The average absolute error across all predictions is 99760. Comparing this to the average house price in our dataset:"
   ]
  },
  {
   "cell_type": "code",
   "execution_count": 44,
   "metadata": {},
   "outputs": [
    {
     "data": {
      "text/plain": [
       "540296.5735055795"
      ]
     },
     "execution_count": 44,
     "metadata": {},
     "output_type": "execute_result"
    }
   ],
   "source": [
    "df['price'].mean()"
   ]
  },
  {
   "cell_type": "markdown",
   "metadata": {},
   "source": []
  },
  {
   "cell_type": "code",
   "execution_count": 43,
   "metadata": {},
   "outputs": [
    {
     "data": {
      "text/plain": [
       "0.8160857796230987"
      ]
     },
     "execution_count": 43,
     "metadata": {},
     "output_type": "execute_result"
    }
   ],
   "source": [
    "explained_variance_score(y_test,predictions)"
   ]
  },
  {
   "cell_type": "markdown",
   "metadata": {},
   "source": [
    "The average absolute error is quite high, especially considering mean house prices. The model does not appear to be great at correctly predicting house prices."
   ]
  },
  {
   "cell_type": "markdown",
   "metadata": {},
   "source": [
    "Plotting predicted house prices against actual house prices:"
   ]
  },
  {
   "cell_type": "code",
   "execution_count": 48,
   "metadata": {},
   "outputs": [
    {
     "data": {
      "text/plain": [
       "[<matplotlib.lines.Line2D at 0x189c5977310>]"
      ]
     },
     "execution_count": 48,
     "metadata": {},
     "output_type": "execute_result"
    },
    {
     "data": {
      "image/png": "[encoded data removed]",
      "text/plain": [
       "<Figure size 864x432 with 1 Axes>"
      ]
     },
     "metadata": {
      "needs_background": "light"
     },
     "output_type": "display_data"
    }
   ],
   "source": [
    "plt.figure(figsize=(12,6))\n",
    "plt.scatter(y_test,predictions)\n",
    "plt.plot(y_test,y_test,'r')"
   ]
  },
  {
   "cell_type": "markdown",
   "metadata": {},
   "source": [
    "The red line shows where points would lie if our model was perfect at predicting house prices. I can see that between \\\\$0 and \\\\$2 million, the model does seem to fare much better at predicting house prices. "
   ]
  },
  {
   "cell_type": "code",
   "execution_count": null,
   "metadata": {},
   "outputs": [],
   "source": []
  }
 ],
 "metadata": {
  "kernelspec": {
   "display_name": "Python 3",
   "language": "python",
   "name": "python3"
  },
  "language_info": {
   "codemirror_mode": {
    "name": "ipython",
    "version": 3
   },
   "file_extension": ".py",
   "mimetype": "text/x-python",
   "name": "python",
   "nbconvert_exporter": "python",
   "pygments_lexer": "ipython3",
   "version": "3.8.5"
  }
 },
 "nbformat": 4,
 "nbformat_minor": 4
}
